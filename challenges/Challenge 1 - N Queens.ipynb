{
 "cells": [
  {
   "cell_type": "markdown",
   "metadata": {},
   "source": [
    "# N-Queens Challenge\n",
    "\n",
    "From wikipedia:\n",
    "    \n",
    ">The eight queens puzzle is the problem of placing eight chess queens on an 8×8 chessboard so that no two queens threaten each other; thus, a solution requires that no two queens share the same row, column, or diagonal. The eight queens puzzle is an example of the more general n queens problem of placing n non-attacking queens on an n×n chessboard, for which solutions exist for all natural numbers n with the exception of n = 2 and n = 3.\n",
    "Chess composer Max Bezzel published the eight queens puzzle in 1848. Franz Nauck published the first solutions in 1850. Nauck also extended the puzzle to the n queens problem, with n queens on a chessboard of n×n squares.\n",
    "    Since then, many mathematicians, including Carl Friedrich Gauss, have worked on both the eight queens puzzle and its generalized n-queens version. In 1874, S. Gunther proposed a method using determinants to find solutions. J.W.L. Glaisher refined Gunther's approach.\n",
    "    In 1972, Edsger Dijkstra used this problem to illustrate the power of what he called structured programming. He published a highly detailed description of a depth-first backtracking algorithm.2\n",
    "\n",
    "## Build a code that calculates the ratio of solutions vs the possible arrangements for N queens in a chess board of NxN size.\n",
    "\n",
    "\n",
    "1. Build an UDF that calculates the total ammount of arragements of N queens\n",
    "2. Build an UDF that if a Queen can be place on a given position and returns true or false\n",
    "3. Apply the 2nd UDF for N queens on an NxN board\n",
    "4. Repeat #3 until it exhausts the possibilities\n",
    "5. Build an UDF that manages the results in a table? or tuple? build an assesment of this object that returns the compiled results.\n"
   ]
  },
  {
   "cell_type": "code",
   "execution_count": 1,
   "metadata": {},
   "outputs": [],
   "source": [
    "class chess:\n",
    "    \n",
    "    def __init__(self, board_size):\n",
    "        self.board_size = board_size\n",
    "    \n",
    "    def build_boards(self):\n",
    "        from itertools import permutations\n",
    "        \n",
    "        n = self.board_size\n",
    "        \n",
    "        queen_column = list(range(0,n))\n",
    "        all_combos = list(permutations(queen_column, n))\n",
    "        return all_combos\n",
    "    \n",
    "    def check_solution(self, current_combo):\n",
    "        new_list = []\n",
    "        n = self.board_size\n",
    "        for i in range(0, n):\n",
    "            idx = i\n",
    "            accum = 1\n",
    "        \n",
    "            for x in range(i, n-1):\n",
    "                if current_combo[i] == current_combo[x+1]+accum or current_combo[i] == current_combo[x+1]-accum:\n",
    "                    new_list.append(False)\n",
    "                    accum += 1\n",
    "                else:\n",
    "                    new_list.append(True)\n",
    "                    accum += 1\n",
    "        return new_list\n",
    "\n",
    "    def all_solutions(self, all_combos):\n",
    "        n = self.board_size\n",
    "        k = len(all_combos)\n",
    "        \n",
    "        place_queens = []\n",
    "\n",
    "        combo_generator = (i for i in all_combos)\n",
    "\n",
    "        for i in range(0,k):\n",
    "            current_combo = next(combo_generator)\n",
    "            results = chess.check_solution(self, current_combo)\n",
    "            place_queens.append(results) \n",
    "             \n",
    "        find_index = [all(x) for x in place_queens]\n",
    "        idx = [value for value, true_statement in enumerate(find_index) if true_statement]\n",
    "        print('For a {}x{} board'.format(n,n))\n",
    "        print('There are {} possible perumtations'.format(k))\n",
    "        print('And {} number of solutions'.format(len(idx)))\n",
    "        return idx\n",
    "    \n",
    "    def see_solutions(self, all_combos, idx):\n",
    "        print('Here is the column and row to place your Queens:')\n",
    "        for i in idx:\n",
    "            print(all_combos[i])\n"
   ]
  },
  {
   "cell_type": "code",
   "execution_count": 2,
   "metadata": {},
   "outputs": [],
   "source": [
    "game = chess(board_size = 4)"
   ]
  },
  {
   "cell_type": "code",
   "execution_count": 3,
   "metadata": {},
   "outputs": [],
   "source": [
    "game_boards = game.build_boards()"
   ]
  },
  {
   "cell_type": "code",
   "execution_count": 4,
   "metadata": {},
   "outputs": [
    {
     "name": "stdout",
     "output_type": "stream",
     "text": [
      "For a 4x4 board\n",
      "There are 24 possible perumtations\n",
      "And 2 number of solutions\n"
     ]
    }
   ],
   "source": [
    "solutions = game.all_solutions(game_boards)"
   ]
  },
  {
   "cell_type": "code",
   "execution_count": 5,
   "metadata": {},
   "outputs": [
    {
     "name": "stdout",
     "output_type": "stream",
     "text": [
      "Here is the column and row to place your Queens:\n",
      "(1, 3, 0, 2)\n",
      "(2, 0, 3, 1)\n"
     ]
    }
   ],
   "source": [
    "game.see_solutions(game_boards, solutions)"
   ]
  },
  {
   "cell_type": "code",
   "execution_count": 1281,
   "metadata": {},
   "outputs": [],
   "source": [
    "def check_solution(current_combo):\n",
    "    new_list = []\n",
    "    for i in range(0, len(current_combo)):\n",
    "        idx = i\n",
    "        accum = 1\n",
    "        \n",
    "        for x in range(i, len(current_combo)-1):\n",
    "            if current_combo[i] == current_combo[x+1]+accum or current_combo[i] == current_combo[x+1]-accum:\n",
    "                new_list.append(False)\n",
    "                accum += 1\n",
    "            else:\n",
    "                new_list.append(True)\n",
    "                accum += 1\n",
    "    return new_list\n"
   ]
  },
  {
   "cell_type": "code",
   "execution_count": 1282,
   "metadata": {},
   "outputs": [
    {
     "data": {
      "text/plain": [
       "[False, False, False, False, False, False]"
      ]
     },
     "execution_count": 1282,
     "metadata": {},
     "output_type": "execute_result"
    }
   ],
   "source": [
    "check_solution(current_combo)"
   ]
  },
  {
   "cell_type": "code",
   "execution_count": 1283,
   "metadata": {},
   "outputs": [],
   "source": [
    "def all_solutions(all_combos):\n",
    "    place_queens = []\n",
    "\n",
    "    combo_generator = (i for i in all_combos)\n",
    "\n",
    "    for i in range(0,(len(all_combos))):\n",
    "        current_combo = next(combo_generator)\n",
    "    \n",
    "        new_list = check_solution(current_combo)\n",
    "        \n",
    "        place_queens.append(new_list) \n",
    "             \n",
    "\n",
    "    find_index = [all(x) for x in place_queens]\n",
    "    idx = [value for value, true_statement in enumerate(find_index) if true_statement]\n",
    "    print('The number of solutions is: {}'.format(len(idx)))\n",
    "    return idx"
   ]
  },
  {
   "cell_type": "code",
   "execution_count": 1284,
   "metadata": {},
   "outputs": [
    {
     "name": "stdout",
     "output_type": "stream",
     "text": [
      "The number of solutions is: 2\n"
     ]
    },
    {
     "data": {
      "text/plain": [
       "[10, 13]"
      ]
     },
     "execution_count": 1284,
     "metadata": {},
     "output_type": "execute_result"
    }
   ],
   "source": [
    "all_solutions(game_boards)"
   ]
  },
  {
   "cell_type": "code",
   "execution_count": null,
   "metadata": {},
   "outputs": [
    {
     "name": "stdout",
     "output_type": "stream",
     "text": [
      "For N = 1 \n",
      "Found 1 solutions.\n",
      "1\n",
      "For N = 2 \n",
      "Found 0 solutions.\n",
      "0\n",
      "For N = 3 \n",
      "Found 0 solutions.\n",
      "0\n",
      "For N = 4 \n",
      "Found 2 solutions.\n",
      "2\n",
      "For N = 5 \n",
      "Found 10 solutions.\n",
      "10\n",
      "For N = 6 \n",
      "Found 4 solutions.\n",
      "4\n",
      "For N = 7 \n",
      "Found 40 solutions.\n",
      "40\n",
      "For N = 8 \n",
      "Found 92 solutions.\n",
      "92\n",
      "For N = 9 \n",
      "Found 352 solutions.\n",
      "352\n",
      "For N = 10 \n",
      "Found 724 solutions.\n",
      "724\n",
      "For N = 11 \n",
      "Found 2680 solutions.\n",
      "2680\n",
      "For N = 12 \n",
      "Found 14200 solutions.\n",
      "14200\n",
      "For N = 13 \n",
      "Found 73712 solutions.\n",
      "73712\n",
      "For N = 14 \n",
      "Found 365596 solutions.\n",
      "365596\n",
      "For N = 15 \n"
     ]
    }
   ],
   "source": [
    "\n",
    "for k in range(1,21):\n",
    "    print(\"For N = {} \".format(k))\n",
    "    print(NQueens(k).solutions)\n",
    "\n"
   ]
  },
  {
   "cell_type": "code",
   "execution_count": null,
   "metadata": {},
   "outputs": [],
   "source": []
  }
 ],
 "metadata": {
  "kernelspec": {
   "display_name": "Python 3",
   "language": "python",
   "name": "python3"
  },
  "language_info": {
   "codemirror_mode": {
    "name": "ipython",
    "version": 3
   },
   "file_extension": ".py",
   "mimetype": "text/x-python",
   "name": "python",
   "nbconvert_exporter": "python",
   "pygments_lexer": "ipython3",
   "version": "3.7.4"
  }
 },
 "nbformat": 4,
 "nbformat_minor": 2
}
