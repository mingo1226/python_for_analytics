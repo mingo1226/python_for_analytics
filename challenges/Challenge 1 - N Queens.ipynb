{
 "cells": [
  {
   "cell_type": "markdown",
   "metadata": {},
   "source": [
    "# N-Queens Challenge\n",
    "\n",
    "From wikipedia:\n",
    "    \n",
    ">The eight queens puzzle is the problem of placing eight chess queens on an 8×8 chessboard so that no two queens threaten each other; thus, a solution requires that no two queens share the same row, column, or diagonal. The eight queens puzzle is an example of the more general n queens problem of placing n non-attacking queens on an n×n chessboard, for which solutions exist for all natural numbers n with the exception of n = 2 and n = 3.\n",
    "Chess composer Max Bezzel published the eight queens puzzle in 1848. Franz Nauck published the first solutions in 1850. Nauck also extended the puzzle to the n queens problem, with n queens on a chessboard of n×n squares.\n",
    "    Since then, many mathematicians, including Carl Friedrich Gauss, have worked on both the eight queens puzzle and its generalized n-queens version. In 1874, S. Gunther proposed a method using determinants to find solutions. J.W.L. Glaisher refined Gunther's approach.\n",
    "    In 1972, Edsger Dijkstra used this problem to illustrate the power of what he called structured programming. He published a highly detailed description of a depth-first backtracking algorithm.2\n",
    "\n",
    "## Build a code that calculates the ratio of solutions vs the possible arrangements for N queens in a chess board of NxN size.\n",
    "\n",
    "\n",
    "1. Build an UDF that calculates the total ammount of arragements of N queens\n",
    "2. Build an UDF that if a Queen can be place on a given position and returns true or false\n",
    "3. Apply the 2nd UDF for N queens on an NxN board\n",
    "4. Repeat #3 until it exhausts the possibilities\n",
    "5. Build an UDF that manages the results in a table? or tuple? build an assesment of this object that returns the compiled results.\n"
   ]
  },
  {
   "cell_type": "markdown",
   "metadata": {},
   "source": [
    "The premise of my solution is to find the permutations for a given nxn board, where each value in the permutation represents the column for which a Queen is placed and each index location repersents the row of the board. By using permutations, no Queen will be placed in the same column or row. Thus, we only need to check if there is a Queen on the diagonal. \n",
    "\n",
    "### Example\n",
    "Permutation sample: [1,3,2,0]\n",
    "<br>\n",
    "Board (True = Queen Placement)\n",
    "<br>\n",
    "F T F F\n",
    "<br>\n",
    "F F F T\n",
    "<br>\n",
    "F F T F\n",
    "<br>\n",
    "T F F F\n",
    "<br>\n",
    "<br>\n",
    "To check if there is a Queen on the diagonal, take the current permutation's first value and check that it does not equal itself + or - n, where n = the number of indexes away from itself.\n",
    "<br>\n",
    "<br>\n",
    "For index 0 of above example:\n",
    "<br>\n",
    "1+1 != 3\n",
    "<br>\n",
    "1-1 != 3\n",
    "<br>\n",
    "1+2 != 2\n",
    "<br>\n",
    "1-2 != 2\n",
    "<br>\n",
    "1+3 != 0\n",
    "<br>\n",
    "1-3 != 0\n",
    "<br>\n",
    "<br>\n",
    "For index 1 of above example:\n",
    "<br>\n",
    "3+1 != 2\n",
    "<br>\n",
    "3-1 == 2 False\n",
    "<br>\n",
    "3+2 != 0\n",
    "<br>\n",
    "3-2 != 0\n",
    "<br>\n",
    "<br>\n",
    "For index 2 of above example: \n",
    "<br>\n",
    "2+1 != 0\n",
    "<br>\n",
    "2-1 != 0 \n",
    "<br>\n",
    "<br>\n",
    "This example is not a solution as the logic shows there is a single instance of Queens being placed on the diagonal from one another.\n"
   ]
  },
  {
   "cell_type": "code",
   "execution_count": 88,
   "metadata": {},
   "outputs": [],
   "source": [
    "class chess:\n",
    "    \n",
    "    def __init__(self, board_size):\n",
    "        self.board_size = board_size\n",
    "    \n",
    "    def build_boards(self):\n",
    "        #returns a list of all permutations for nxn board\n",
    "        from itertools import permutations\n",
    "        \n",
    "        n = self.board_size\n",
    "        \n",
    "        queen_column = list(range(0,n))\n",
    "        all_combos = list(permutations(queen_column, n))\n",
    "        return all_combos\n",
    "    \n",
    "    def check_solution(self, current_combo):\n",
    "        #input a tuple of single permutation option\n",
    "        #function checks if Queen can be placed based of the location of each integer value\n",
    "        #returns a list of True/False indicating if Queen is able to be placed in its position\n",
    "        true_or_false = []\n",
    "        n = self.board_size\n",
    "        \n",
    "        #i is index of value we are checking\n",
    "        #accum will add 1 to check current value against each diagonal value and track number of spaces away\n",
    "        for i in range(0, n):\n",
    "            accum = 1\n",
    "        \n",
    "            #check if current value equals the value n indexes away plus or minus n (aka the diagonal)\n",
    "            #if current value is equal, then there is a Queen on the diagonal, return False, else no Queen True\n",
    "            for x in range(i, n-1):\n",
    "                if current_combo[i] == current_combo[x+1]+accum or current_combo[i] == current_combo[x+1]-accum:\n",
    "                    true_or_false.append(False)\n",
    "                    accum += 1\n",
    "                else:\n",
    "                    true_or_false.append(True)\n",
    "                    accum += 1\n",
    "                    \n",
    "        return true_or_false\n",
    "\n",
    "    def all_solutions(self, all_combos):\n",
    "        #input a list of permutations\n",
    "        #function runs each permutation through the check_solutions function\n",
    "        n = self.board_size\n",
    "        k = len(all_combos)\n",
    "        \n",
    "        #list to keep track of all true/false returns from check_solutiosn function\n",
    "        place_queens = []\n",
    "        \n",
    "        #generator to move to next permutation combination\n",
    "        combo_generator = (i for i in all_combos)\n",
    "\n",
    "        #check solutions for each permutation possibility, save in place_queens list\n",
    "        for i in range(0,k):\n",
    "            current_combo = next(combo_generator)\n",
    "            results = chess.check_solution(self, current_combo)\n",
    "            place_queens.append(results) \n",
    "        \n",
    "        #return True/False for all nested lists that contain all True (solutions)\n",
    "        all_true = [all(x) for x in place_queens]\n",
    "        \n",
    "        #find the location of all True inside list all_true\n",
    "        idx = [value for value, true_statement in enumerate(all_true) if true_statement]\n",
    "        \n",
    "        print('For a {}x{} board...'.format(n,n))\n",
    "        print('there are {} possible perumtations'.format(k))\n",
    "        print('and {} solutions'.format(len(idx)))\n",
    "        return idx\n",
    "    \n",
    "    def see_solutions(self, all_combos, idx):\n",
    "        #input a list of permutations created by the game_boards function \n",
    "        #and index of solutions from the all_solutions function to see the solutions\n",
    "        print('Here are the columns and rows to place your Queens:')\n",
    "        for i in idx:\n",
    "            print(all_combos[i])\n"
   ]
  },
  {
   "cell_type": "code",
   "execution_count": 96,
   "metadata": {},
   "outputs": [],
   "source": [
    "#create instance of chess, define nxn board size\n",
    "game = chess(board_size = 6)"
   ]
  },
  {
   "cell_type": "code",
   "execution_count": 97,
   "metadata": {},
   "outputs": [],
   "source": [
    "#find all possible row/column combinations for the Queen\n",
    "game_boards = game.build_boards()"
   ]
  },
  {
   "cell_type": "code",
   "execution_count": 98,
   "metadata": {},
   "outputs": [
    {
     "name": "stdout",
     "output_type": "stream",
     "text": [
      "For a 6x6 board...\n",
      "there are 720 possible perumtations\n",
      "and 4 solutions\n"
     ]
    }
   ],
   "source": [
    "#find the solutions and return the index of \n",
    "solutions = game.all_solutions(game_boards)"
   ]
  },
  {
   "cell_type": "code",
   "execution_count": 99,
   "metadata": {},
   "outputs": [
    {
     "name": "stdout",
     "output_type": "stream",
     "text": [
      "Here are the columns and rows to place your Queens:\n",
      "(1, 3, 5, 0, 2, 4)\n",
      "(2, 5, 1, 4, 0, 3)\n",
      "(3, 0, 4, 1, 5, 2)\n",
      "(4, 2, 0, 5, 3, 1)\n"
     ]
    }
   ],
   "source": [
    "game.see_solutions(game_boards, solutions)"
   ]
  },
  {
   "cell_type": "code",
   "execution_count": 102,
   "metadata": {},
   "outputs": [
    {
     "name": "stdout",
     "output_type": "stream",
     "text": [
      "For a 1x1 board...\n",
      "there are 1 possible perumtations\n",
      "and 1 solutions\n",
      "For a 2x2 board...\n",
      "there are 2 possible perumtations\n",
      "and 0 solutions\n",
      "For a 3x3 board...\n",
      "there are 6 possible perumtations\n",
      "and 0 solutions\n",
      "For a 4x4 board...\n",
      "there are 24 possible perumtations\n",
      "and 2 solutions\n",
      "For a 5x5 board...\n",
      "there are 120 possible perumtations\n",
      "and 10 solutions\n",
      "For a 6x6 board...\n",
      "there are 720 possible perumtations\n",
      "and 4 solutions\n",
      "For a 7x7 board...\n",
      "there are 5040 possible perumtations\n",
      "and 40 solutions\n",
      "For a 8x8 board...\n",
      "there are 40320 possible perumtations\n",
      "and 92 solutions\n",
      "For a 9x9 board...\n",
      "there are 362880 possible perumtations\n",
      "and 352 solutions\n",
      "For a 10x10 board...\n",
      "there are 3628800 possible perumtations\n",
      "and 724 solutions\n",
      "For a 11x11 board...\n",
      "there are 39916800 possible perumtations\n",
      "and 2680 solutions\n"
     ]
    }
   ],
   "source": [
    "for i in range(1,12):\n",
    "    game = chess(board_size = i)\n",
    "    game_boards = game.build_boards()\n",
    "    solutions = game.all_solutions(game_boards)"
   ]
  },
  {
   "cell_type": "markdown",
   "metadata": {},
   "source": [
    "That's it! Left over work below.\n"
   ]
  },
  {
   "cell_type": "code",
   "execution_count": null,
   "metadata": {},
   "outputs": [],
   "source": []
  },
  {
   "cell_type": "code",
   "execution_count": 52,
   "metadata": {},
   "outputs": [],
   "source": [
    "current_combo = (2, 0, 3, 1)"
   ]
  },
  {
   "cell_type": "code",
   "execution_count": 53,
   "metadata": {},
   "outputs": [],
   "source": [
    "def check_solution(current_combo):\n",
    "    new_list = []\n",
    "    for i in range(0, len(current_combo)):\n",
    "        idx = i\n",
    "        accum = 1\n",
    "        \n",
    "        for x in range(i, len(current_combo)-1):\n",
    "            if current_combo[i] == current_combo[x+1]+accum or current_combo[i] == current_combo[x+1]-accum:\n",
    "                new_list.append(False)\n",
    "                accum += 1\n",
    "            else:\n",
    "                new_list.append(True)\n",
    "                accum += 1\n",
    "    return new_list\n"
   ]
  },
  {
   "cell_type": "code",
   "execution_count": 54,
   "metadata": {},
   "outputs": [
    {
     "data": {
      "text/plain": [
       "[True, True, True, True, True, True]"
      ]
     },
     "execution_count": 54,
     "metadata": {},
     "output_type": "execute_result"
    }
   ],
   "source": [
    "check_solution(current_combo)"
   ]
  },
  {
   "cell_type": "code",
   "execution_count": 61,
   "metadata": {},
   "outputs": [],
   "source": [
    "def all_solutions(all_combos):\n",
    "    place_queens = []\n",
    "\n",
    "    combo_generator = (i for i in all_combos)\n",
    "\n",
    "    for i in range(0,(len(all_combos))):\n",
    "        current_combo = next(combo_generator)\n",
    "    \n",
    "        new_list = check_solution(current_combo)\n",
    "        \n",
    "        place_queens.append(new_list) \n",
    "             \n",
    "    find_index = [all(x) for x in place_queens]\n",
    "    print(find_index)\n",
    "    \n",
    "    idx = [value for value, true_statement in enumerate(find_index) if true_statement]\n",
    "    print('The number of solutions is: {}'.format(len(idx)))\n",
    "    return find_index"
   ]
  },
  {
   "cell_type": "code",
   "execution_count": 62,
   "metadata": {},
   "outputs": [
    {
     "name": "stdout",
     "output_type": "stream",
     "text": [
      "[False, False, False, False, False, False, False, False, False, False, True, False, False, True, False, False, False, False, False, False, False, False, False, False]\n",
      "The number of solutions is: 2\n"
     ]
    }
   ],
   "source": [
    "x = all_solutions(game_boards)"
   ]
  },
  {
   "cell_type": "code",
   "execution_count": 71,
   "metadata": {},
   "outputs": [
    {
     "data": {
      "text/plain": [
       "[10, 13]"
      ]
     },
     "execution_count": 71,
     "metadata": {},
     "output_type": "execute_result"
    }
   ],
   "source": [
    "[value for value, statement in c(x) if statement]"
   ]
  },
  {
   "cell_type": "code",
   "execution_count": 74,
   "metadata": {},
   "outputs": [],
   "source": [
    "a = [False, True, True, False]"
   ]
  },
  {
   "cell_type": "code",
   "execution_count": 77,
   "metadata": {},
   "outputs": [
    {
     "name": "stdout",
     "output_type": "stream",
     "text": [
      "0 False\n",
      "1 True\n",
      "2 True\n",
      "3 False\n"
     ]
    }
   ],
   "source": [
    "for counter, value in enumerate(a):\n",
    "    print(counter, value)"
   ]
  },
  {
   "cell_type": "code",
   "execution_count": 80,
   "metadata": {},
   "outputs": [
    {
     "name": "stdout",
     "output_type": "stream",
     "text": [
      "1\n",
      "2\n"
     ]
    }
   ],
   "source": [
    "for counter, value in enumerate(a):\n",
    "    if value == True:\n",
    "        print(counter)"
   ]
  },
  {
   "cell_type": "code",
   "execution_count": null,
   "metadata": {},
   "outputs": [
    {
     "name": "stdout",
     "output_type": "stream",
     "text": [
      "For N = 1 \n",
      "Found 1 solutions.\n",
      "1\n",
      "For N = 2 \n",
      "Found 0 solutions.\n",
      "0\n",
      "For N = 3 \n",
      "Found 0 solutions.\n",
      "0\n",
      "For N = 4 \n",
      "Found 2 solutions.\n",
      "2\n",
      "For N = 5 \n",
      "Found 10 solutions.\n",
      "10\n",
      "For N = 6 \n",
      "Found 4 solutions.\n",
      "4\n",
      "For N = 7 \n",
      "Found 40 solutions.\n",
      "40\n",
      "For N = 8 \n",
      "Found 92 solutions.\n",
      "92\n",
      "For N = 9 \n",
      "Found 352 solutions.\n",
      "352\n",
      "For N = 10 \n",
      "Found 724 solutions.\n",
      "724\n",
      "For N = 11 \n",
      "Found 2680 solutions.\n",
      "2680\n",
      "For N = 12 \n",
      "Found 14200 solutions.\n",
      "14200\n",
      "For N = 13 \n",
      "Found 73712 solutions.\n",
      "73712\n",
      "For N = 14 \n",
      "Found 365596 solutions.\n",
      "365596\n",
      "For N = 15 \n"
     ]
    }
   ],
   "source": [
    "\n",
    "for k in range(1,21):\n",
    "    print(\"For N = {} \".format(k))\n",
    "    print(NQueens(k).solutions)\n",
    "\n"
   ]
  },
  {
   "cell_type": "code",
   "execution_count": null,
   "metadata": {},
   "outputs": [],
   "source": []
  },
  {
   "cell_type": "code",
   "execution_count": null,
   "metadata": {},
   "outputs": [],
   "source": []
  }
 ],
 "metadata": {
  "kernelspec": {
   "display_name": "Python 3",
   "language": "python",
   "name": "python3"
  },
  "language_info": {
   "codemirror_mode": {
    "name": "ipython",
    "version": 3
   },
   "file_extension": ".py",
   "mimetype": "text/x-python",
   "name": "python",
   "nbconvert_exporter": "python",
   "pygments_lexer": "ipython3",
   "version": "3.7.4"
  }
 },
 "nbformat": 4,
 "nbformat_minor": 2
}
