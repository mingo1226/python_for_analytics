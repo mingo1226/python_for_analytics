{
 "cells": [
  {
   "cell_type": "code",
   "execution_count": null,
   "metadata": {},
   "outputs": [],
   "source": [
    "import multiprocessing as mp\n",
    "import time\n",
    "\n",
    "def run(x):\n",
    "  return x**2\n",
    "\n",
    "start = time.time()\n",
    "\n",
    "vect = list(range(2))\n",
    "print(vect)\n",
    "pool = mp.Pool(processes=1)\n",
    "results = pool.map(run, vect)\n",
    "print(results)\n",
    "end = time.time()\n",
    "print(\"Seconds:{}\".format(end - start))\n"
   ]
  }
 ],
 "metadata": {
  "kernelspec": {
   "display_name": "Python 3",
   "language": "python",
   "name": "python3"
  },
  "language_info": {
   "codemirror_mode": {
    "name": "ipython",
    "version": 3
   },
   "file_extension": ".py",
   "mimetype": "text/x-python",
   "name": "python",
   "nbconvert_exporter": "python",
   "pygments_lexer": "ipython3",
   "version": "3.7.4"
  }
 },
 "nbformat": 4,
 "nbformat_minor": 2
}
