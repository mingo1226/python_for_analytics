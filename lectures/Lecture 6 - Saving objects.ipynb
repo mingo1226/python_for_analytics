{
 "cells": [
  {
   "cell_type": "markdown",
   "metadata": {},
   "source": [
    "### Saving Objects in Python\n",
    "* serialization, marshaling, and flattening. \n",
    "* same—to save an object to a file for later retrieval\n",
    "* accomplishes this by writing the object as one long stream of bytes. \n",
    "* pickling also used to save models in sklearn\n",
    "* https://docs.python.org/3/library/pickle.html\n",
    "* https://scikit-learn.org/stable/modules/model_persistence.html"
   ]
  },
  {
   "cell_type": "code",
   "execution_count": 127,
   "metadata": {},
   "outputs": [
    {
     "name": "stdout",
     "output_type": "stream",
     "text": [
      "True\n"
     ]
    }
   ],
   "source": [
    "class Dog:\n",
    "    \n",
    "    def __init__(self, name):\n",
    "        self.name = name\n",
    "        \n",
    "d = Dog(\"Rex\")\n",
    "\n",
    "assert hasattr(d, \"name\"), \"this object doesn't have attribuet namee\""
   ]
  },
  {
   "cell_type": "code",
   "execution_count": 3,
   "metadata": {},
   "outputs": [],
   "source": [
    "import pickle"
   ]
  },
  {
   "cell_type": "code",
   "execution_count": 139,
   "metadata": {},
   "outputs": [],
   "source": [
    "test = [\"a\", \"b\"]"
   ]
  },
  {
   "cell_type": "code",
   "execution_count": 140,
   "metadata": {},
   "outputs": [],
   "source": [
    "file = open('test_pickle', 'wb') \n",
    "pickle.dump(test, file)\n",
    "file.close()"
   ]
  },
  {
   "cell_type": "code",
   "execution_count": 141,
   "metadata": {},
   "outputs": [
    {
     "data": {
      "text/plain": [
       "['a', 'b']"
      ]
     },
     "execution_count": 141,
     "metadata": {},
     "output_type": "execute_result"
    }
   ],
   "source": [
    "test"
   ]
  },
  {
   "cell_type": "code",
   "execution_count": 142,
   "metadata": {},
   "outputs": [],
   "source": [
    "# delete from memory\n",
    "del test"
   ]
  },
  {
   "cell_type": "code",
   "execution_count": 143,
   "metadata": {},
   "outputs": [
    {
     "ename": "NameError",
     "evalue": "name 'test' is not defined",
     "output_type": "error",
     "traceback": [
      "\u001b[0;31m---------------------------------------------------------------------------\u001b[0m",
      "\u001b[0;31mNameError\u001b[0m                                 Traceback (most recent call last)",
      "\u001b[0;32m<ipython-input-143-4e1243bd22c6>\u001b[0m in \u001b[0;36m<module>\u001b[0;34m\u001b[0m\n\u001b[0;32m----> 1\u001b[0;31m \u001b[0mtest\u001b[0m\u001b[0;34m\u001b[0m\u001b[0;34m\u001b[0m\u001b[0m\n\u001b[0m",
      "\u001b[0;31mNameError\u001b[0m: name 'test' is not defined"
     ]
    }
   ],
   "source": [
    "test"
   ]
  },
  {
   "cell_type": "code",
   "execution_count": 144,
   "metadata": {},
   "outputs": [],
   "source": [
    "file = open('test_pickle', 'rb') \n",
    "test = pickle.load(file)\n",
    "file.close()"
   ]
  },
  {
   "cell_type": "code",
   "execution_count": 145,
   "metadata": {},
   "outputs": [
    {
     "data": {
      "text/plain": [
       "['a', 'b']"
      ]
     },
     "execution_count": 145,
     "metadata": {},
     "output_type": "execute_result"
    }
   ],
   "source": [
    "test"
   ]
  },
  {
   "cell_type": "markdown",
   "metadata": {},
   "source": [
    "#### using with"
   ]
  },
  {
   "cell_type": "code",
   "execution_count": 48,
   "metadata": {},
   "outputs": [],
   "source": [
    "item = \"some string I made\""
   ]
  },
  {
   "cell_type": "code",
   "execution_count": 49,
   "metadata": {},
   "outputs": [],
   "source": [
    "with open(\"test_pickle.pkl\", \"wb\") as file:\n",
    "    pickle.dump(item, file)"
   ]
  },
  {
   "cell_type": "code",
   "execution_count": 50,
   "metadata": {},
   "outputs": [
    {
     "ename": "NameError",
     "evalue": "name 'item' is not defined",
     "output_type": "error",
     "traceback": [
      "\u001b[0;31m---------------------------------------------------------------------------\u001b[0m",
      "\u001b[0;31mNameError\u001b[0m                                 Traceback (most recent call last)",
      "\u001b[0;32m<ipython-input-50-8cd64e89cea0>\u001b[0m in \u001b[0;36m<module>\u001b[0;34m\u001b[0m\n\u001b[1;32m      1\u001b[0m \u001b[0;32mdel\u001b[0m \u001b[0mitem\u001b[0m\u001b[0;34m\u001b[0m\u001b[0;34m\u001b[0m\u001b[0m\n\u001b[0;32m----> 2\u001b[0;31m \u001b[0mitem\u001b[0m\u001b[0;34m\u001b[0m\u001b[0;34m\u001b[0m\u001b[0m\n\u001b[0m",
      "\u001b[0;31mNameError\u001b[0m: name 'item' is not defined"
     ]
    }
   ],
   "source": [
    "del item\n",
    "item"
   ]
  },
  {
   "cell_type": "code",
   "execution_count": 51,
   "metadata": {},
   "outputs": [],
   "source": [
    "with open(\"test_pickle.pkl\", \"rb\") as file:\n",
    "    item = pickle.load(file)"
   ]
  },
  {
   "cell_type": "code",
   "execution_count": 52,
   "metadata": {},
   "outputs": [
    {
     "data": {
      "text/plain": [
       "'some string I made'"
      ]
     },
     "execution_count": 52,
     "metadata": {},
     "output_type": "execute_result"
    }
   ],
   "source": [
    "item"
   ]
  },
  {
   "cell_type": "markdown",
   "metadata": {},
   "source": [
    "<h3 style=\"color:blue\">make a python object</h3>\n",
    "<p style=\"color:blue\">- save the object</p>\n",
    "<p style=\"color:blue\">- delete the object from memory</p>\n",
    "<p style=\"color:blue\">- reload it</p>"
   ]
  },
  {
   "cell_type": "code",
   "execution_count": 29,
   "metadata": {},
   "outputs": [],
   "source": [
    "import seaborn as sns\n",
    "import matplotlib.pyplot as plt\n",
    "tips = sns.load_dataset(\"tips\")"
   ]
  },
  {
   "cell_type": "code",
   "execution_count": 39,
   "metadata": {},
   "outputs": [
    {
     "data": {
      "text/plain": [
       "Text(0.5, 1.0, 'Tips')"
      ]
     },
     "execution_count": 39,
     "metadata": {},
     "output_type": "execute_result"
    },
    {
     "data": {
      "image/png": "[encoded data removed]",
      "text/plain": [
       "<Figure size 429.625x360 with 1 Axes>"
      ]
     },
     "metadata": {
      "needs_background": "light"
     },
     "output_type": "display_data"
    }
   ],
   "source": [
    "graph = sns.relplot(x = \"tip\", y = \"total_bill\", data = tips, size = \"size\", hue = 'time')\n",
    "plt.title('Tips')"
   ]
  },
  {
   "cell_type": "code",
   "execution_count": 44,
   "metadata": {},
   "outputs": [],
   "source": [
    "with open(\"graph.pkl\", \"wb\") as file:\n",
    "    pickle.dump(graph, file)"
   ]
  },
  {
   "cell_type": "code",
   "execution_count": 45,
   "metadata": {},
   "outputs": [
    {
     "ename": "NameError",
     "evalue": "name 'graph' is not defined",
     "output_type": "error",
     "traceback": [
      "\u001b[0;31m---------------------------------------------------------------------------\u001b[0m",
      "\u001b[0;31mNameError\u001b[0m                                 Traceback (most recent call last)",
      "\u001b[0;32m<ipython-input-45-2c868b8281f2>\u001b[0m in \u001b[0;36m<module>\u001b[0;34m\u001b[0m\n\u001b[1;32m      1\u001b[0m \u001b[0;32mdel\u001b[0m \u001b[0mgraph\u001b[0m\u001b[0;34m\u001b[0m\u001b[0;34m\u001b[0m\u001b[0m\n\u001b[0;32m----> 2\u001b[0;31m \u001b[0mgraph\u001b[0m\u001b[0;34m\u001b[0m\u001b[0;34m\u001b[0m\u001b[0m\n\u001b[0m",
      "\u001b[0;31mNameError\u001b[0m: name 'graph' is not defined"
     ]
    }
   ],
   "source": [
    "del graph\n",
    "graph"
   ]
  },
  {
   "cell_type": "code",
   "execution_count": 46,
   "metadata": {},
   "outputs": [],
   "source": [
    "with open(\"graph.pkl\", \"rb\") as file:\n",
    "    graph = pickle.load(file)"
   ]
  },
  {
   "cell_type": "code",
   "execution_count": 47,
   "metadata": {},
   "outputs": [
    {
     "data": {
      "text/plain": [
       "<seaborn.axisgrid.FacetGrid at 0x7fea20fde150>"
      ]
     },
     "execution_count": 47,
     "metadata": {},
     "output_type": "execute_result"
    }
   ],
   "source": [
    "graph"
   ]
  },
  {
   "cell_type": "code",
   "execution_count": 24,
   "metadata": {},
   "outputs": [
    {
     "data": {
      "text/plain": [
       "['ExecutableNotFoundError',\n",
       " 'LooseVersion',\n",
       " 'MatplotlibDeprecationWarning',\n",
       " 'MutableMapping',\n",
       " 'Parameter',\n",
       " 'Path',\n",
       " 'RcParams',\n",
       " 'URL_REGEX',\n",
       " '_DATA_DOC_APPENDIX',\n",
       " '_DATA_DOC_TITLE',\n",
       " '_ExecInfo',\n",
       " '__bibtex__',\n",
       " '__builtins__',\n",
       " '__cached__',\n",
       " '__doc__',\n",
       " '__file__',\n",
       " '__loader__',\n",
       " '__name__',\n",
       " '__package__',\n",
       " '__path__',\n",
       " '__spec__',\n",
       " '__version__',\n",
       " '_add_data_doc',\n",
       " '_all_deprecated',\n",
       " '_check_versions',\n",
       " '_cm',\n",
       " '_cm_listed',\n",
       " '_color_data',\n",
       " '_constrained_layout',\n",
       " '_create_tmp_config_or_cache_dir',\n",
       " '_deprecated_ignore_map',\n",
       " '_deprecated_map',\n",
       " '_deprecated_remain_as_none',\n",
       " '_ensure_handler',\n",
       " '_get_config_or_cache_dir',\n",
       " '_get_data_path',\n",
       " '_get_executable_info',\n",
       " '_get_xdg_cache_dir',\n",
       " '_get_xdg_config_dir',\n",
       " '_image',\n",
       " '_init_tests',\n",
       " '_label_from_arg',\n",
       " '_layoutbox',\n",
       " '_log',\n",
       " '_logged_cached',\n",
       " '_mathtext_data',\n",
       " '_open_file_or_url',\n",
       " '_path',\n",
       " '_png',\n",
       " '_preprocess_data',\n",
       " '_pylab_helpers',\n",
       " '_rc_params_in_file',\n",
       " '_replacer',\n",
       " '_text_layout',\n",
       " '_version',\n",
       " 'afm',\n",
       " 'artist',\n",
       " 'atexit',\n",
       " 'axes',\n",
       " 'axis',\n",
       " 'backend_bases',\n",
       " 'backend_tools',\n",
       " 'backends',\n",
       " 'bezier',\n",
       " 'blocking_input',\n",
       " 'category',\n",
       " 'cbook',\n",
       " 'checkdep_dvipng',\n",
       " 'checkdep_ghostscript',\n",
       " 'checkdep_inkscape',\n",
       " 'checkdep_pdftops',\n",
       " 'checkdep_ps_distiller',\n",
       " 'checkdep_usetex',\n",
       " 'cm',\n",
       " 'collections',\n",
       " 'colorbar',\n",
       " 'colors',\n",
       " 'compare_versions',\n",
       " 'container',\n",
       " 'contextlib',\n",
       " 'contour',\n",
       " 'cycler',\n",
       " 'dates',\n",
       " 'dedent',\n",
       " 'defaultParams',\n",
       " 'default_test_modules',\n",
       " 'docstring',\n",
       " 'dviread',\n",
       " 'figure',\n",
       " 'font_manager',\n",
       " 'fontconfig_pattern',\n",
       " 'ft2font',\n",
       " 'functools',\n",
       " 'get_backend',\n",
       " 'get_cachedir',\n",
       " 'get_configdir',\n",
       " 'get_data_path',\n",
       " 'get_home',\n",
       " 'get_label',\n",
       " 'get_py2exe_datafiles',\n",
       " 'gridspec',\n",
       " 'image',\n",
       " 'importlib',\n",
       " 'inspect',\n",
       " 'interactive',\n",
       " 'is_interactive',\n",
       " 'is_url',\n",
       " 'legend',\n",
       " 'legend_handler',\n",
       " 'lines',\n",
       " 'locale',\n",
       " 'logging',\n",
       " 'markers',\n",
       " 'mathtext',\n",
       " 'matplotlib_fname',\n",
       " 'mlab',\n",
       " 'mplDeprecation',\n",
       " 'namedtuple',\n",
       " 'numpy',\n",
       " 'offsetbox',\n",
       " 'os',\n",
       " 'patches',\n",
       " 'path',\n",
       " 'pprint',\n",
       " 'projections',\n",
       " 'pyplot',\n",
       " 'quiver',\n",
       " 'rc',\n",
       " 'rcParams',\n",
       " 'rcParamsDefault',\n",
       " 'rcParamsOrig',\n",
       " 'rc_context',\n",
       " 'rc_file',\n",
       " 'rc_file_defaults',\n",
       " 'rc_params',\n",
       " 'rc_params_from_file',\n",
       " 'rcdefaults',\n",
       " 'rcsetup',\n",
       " 're',\n",
       " 'sanitize_sequence',\n",
       " 'scale',\n",
       " 'set_loglevel',\n",
       " 'shutil',\n",
       " 'spines',\n",
       " 'stackplot',\n",
       " 'streamplot',\n",
       " 'style',\n",
       " 'subprocess',\n",
       " 'sys',\n",
       " 'table',\n",
       " 'tempfile',\n",
       " 'test',\n",
       " 'texmanager',\n",
       " 'text',\n",
       " 'textpath',\n",
       " 'ticker',\n",
       " 'tight_bbox',\n",
       " 'tight_layout',\n",
       " 'tk_window_focus',\n",
       " 'transforms',\n",
       " 'tri',\n",
       " 'units',\n",
       " 'use',\n",
       " 'validate_backend',\n",
       " 'warnings',\n",
       " 'widgets']"
      ]
     },
     "execution_count": 24,
     "metadata": {},
     "output_type": "execute_result"
    }
   ],
   "source": [
    "dir(plt)"
   ]
  },
  {
   "cell_type": "code",
   "execution_count": 53,
   "metadata": {},
   "outputs": [
    {
     "data": {
      "text/plain": [
       "range(2, 3)"
      ]
     },
     "execution_count": 53,
     "metadata": {},
     "output_type": "execute_result"
    }
   ],
   "source": [
    "range(2,3)"
   ]
  },
  {
   "cell_type": "code",
   "execution_count": 55,
   "metadata": {},
   "outputs": [
    {
     "name": "stdout",
     "output_type": "stream",
     "text": [
      "2\n"
     ]
    }
   ],
   "source": [
    "for i in range(2,3):\n",
    "    print(i)"
   ]
  },
  {
   "cell_type": "code",
   "execution_count": 64,
   "metadata": {},
   "outputs": [
    {
     "data": {
      "text/plain": [
       "0"
      ]
     },
     "execution_count": 64,
     "metadata": {},
     "output_type": "execute_result"
    }
   ],
   "source": [
    "6%2"
   ]
  },
  {
   "cell_type": "code",
   "execution_count": 87,
   "metadata": {},
   "outputs": [],
   "source": [
    "x = [False, True, True]"
   ]
  },
  {
   "cell_type": "code",
   "execution_count": 88,
   "metadata": {},
   "outputs": [
    {
     "data": {
      "text/plain": [
       "False"
      ]
     },
     "execution_count": 88,
     "metadata": {},
     "output_type": "execute_result"
    }
   ],
   "source": [
    "all(x)"
   ]
  },
  {
   "cell_type": "code",
   "execution_count": 89,
   "metadata": {},
   "outputs": [
    {
     "data": {
      "text/plain": [
       "[1, 2]"
      ]
     },
     "execution_count": 89,
     "metadata": {},
     "output_type": "execute_result"
    }
   ],
   "source": [
    "[value for value, true_statement in enumerate(x) if true_statement]"
   ]
  },
  {
   "cell_type": "code",
   "execution_count": 92,
   "metadata": {},
   "outputs": [
    {
     "data": {
      "text/plain": [
       "(array([], dtype=int64),)"
      ]
     },
     "execution_count": 92,
     "metadata": {},
     "output_type": "execute_result"
    }
   ],
   "source": [
    "np.where(x==True)"
   ]
  },
  {
   "cell_type": "code",
   "execution_count": 74,
   "metadata": {},
   "outputs": [],
   "source": [
    "import numpy as np"
   ]
  },
  {
   "cell_type": "code",
   "execution_count": 97,
   "metadata": {},
   "outputs": [],
   "source": [
    "a = [10, 10, 20, 10, 20]"
   ]
  },
  {
   "cell_type": "code",
   "execution_count": 98,
   "metadata": {},
   "outputs": [
    {
     "data": {
      "text/plain": [
       "[10, 10, 20, 10, 20]"
      ]
     },
     "execution_count": 98,
     "metadata": {},
     "output_type": "execute_result"
    }
   ],
   "source": [
    "a"
   ]
  },
  {
   "cell_type": "code",
   "execution_count": 102,
   "metadata": {},
   "outputs": [
    {
     "name": "stdout",
     "output_type": "stream",
     "text": [
      "3\n",
      "3\n",
      "2\n",
      "3\n",
      "2\n"
     ]
    }
   ],
   "source": [
    "for i in a:\n",
    "    print(a.count(i))\n",
    "    "
   ]
  },
  {
   "cell_type": "code",
   "execution_count": 104,
   "metadata": {},
   "outputs": [],
   "source": [
    "x = np.unique(a, return_counts = True)"
   ]
  },
  {
   "cell_type": "code",
   "execution_count": 108,
   "metadata": {},
   "outputs": [
    {
     "data": {
      "text/plain": [
       "(array([10, 20]), array([3, 2]))"
      ]
     },
     "execution_count": 108,
     "metadata": {},
     "output_type": "execute_result"
    }
   ],
   "source": [
    "x"
   ]
  },
  {
   "cell_type": "code",
   "execution_count": 110,
   "metadata": {},
   "outputs": [
    {
     "data": {
      "text/plain": [
       "2"
      ]
     },
     "execution_count": 110,
     "metadata": {},
     "output_type": "execute_result"
    }
   ],
   "source": [
    "x[1].sum()//2"
   ]
  },
  {
   "cell_type": "code",
   "execution_count": 111,
   "metadata": {},
   "outputs": [],
   "source": [
    "import math"
   ]
  },
  {
   "cell_type": "code",
   "execution_count": 132,
   "metadata": {},
   "outputs": [],
   "source": [
    "import sys"
   ]
  },
  {
   "cell_type": "code",
   "execution_count": 117,
   "metadata": {},
   "outputs": [],
   "source": [
    "import re"
   ]
  },
  {
   "cell_type": "code",
   "execution_count": 133,
   "metadata": {},
   "outputs": [
    {
     "data": {
      "text/plain": [
       "['__breakpointhook__',\n",
       " '__displayhook__',\n",
       " '__doc__',\n",
       " '__excepthook__',\n",
       " '__interactivehook__',\n",
       " '__loader__',\n",
       " '__name__',\n",
       " '__package__',\n",
       " '__spec__',\n",
       " '__stderr__',\n",
       " '__stdin__',\n",
       " '__stdout__',\n",
       " '_clear_type_cache',\n",
       " '_current_frames',\n",
       " '_debugmallocstats',\n",
       " '_framework',\n",
       " '_getframe',\n",
       " '_git',\n",
       " '_home',\n",
       " '_xoptions',\n",
       " 'abiflags',\n",
       " 'api_version',\n",
       " 'argv',\n",
       " 'base_exec_prefix',\n",
       " 'base_prefix',\n",
       " 'breakpointhook',\n",
       " 'builtin_module_names',\n",
       " 'byteorder',\n",
       " 'call_tracing',\n",
       " 'callstats',\n",
       " 'copyright',\n",
       " 'displayhook',\n",
       " 'dont_write_bytecode',\n",
       " 'exc_info',\n",
       " 'excepthook',\n",
       " 'exec_prefix',\n",
       " 'executable',\n",
       " 'exit',\n",
       " 'flags',\n",
       " 'float_info',\n",
       " 'float_repr_style',\n",
       " 'get_asyncgen_hooks',\n",
       " 'get_coroutine_origin_tracking_depth',\n",
       " 'get_coroutine_wrapper',\n",
       " 'getallocatedblocks',\n",
       " 'getcheckinterval',\n",
       " 'getdefaultencoding',\n",
       " 'getdlopenflags',\n",
       " 'getfilesystemencodeerrors',\n",
       " 'getfilesystemencoding',\n",
       " 'getprofile',\n",
       " 'getrecursionlimit',\n",
       " 'getrefcount',\n",
       " 'getsizeof',\n",
       " 'getswitchinterval',\n",
       " 'gettrace',\n",
       " 'hash_info',\n",
       " 'hexversion',\n",
       " 'implementation',\n",
       " 'int_info',\n",
       " 'intern',\n",
       " 'is_finalizing',\n",
       " 'last_traceback',\n",
       " 'last_type',\n",
       " 'last_value',\n",
       " 'maxsize',\n",
       " 'maxunicode',\n",
       " 'meta_path',\n",
       " 'modules',\n",
       " 'path',\n",
       " 'path_hooks',\n",
       " 'path_importer_cache',\n",
       " 'platform',\n",
       " 'prefix',\n",
       " 'ps1',\n",
       " 'ps2',\n",
       " 'ps3',\n",
       " 'set_asyncgen_hooks',\n",
       " 'set_coroutine_origin_tracking_depth',\n",
       " 'set_coroutine_wrapper',\n",
       " 'setcheckinterval',\n",
       " 'setdlopenflags',\n",
       " 'setprofile',\n",
       " 'setrecursionlimit',\n",
       " 'setswitchinterval',\n",
       " 'settrace',\n",
       " 'stderr',\n",
       " 'stdin',\n",
       " 'stdout',\n",
       " 'thread_info',\n",
       " 'version',\n",
       " 'version_info',\n",
       " 'warnoptions']"
      ]
     },
     "execution_count": 133,
     "metadata": {},
     "output_type": "execute_result"
    }
   ],
   "source": [
    "dir(sys)"
   ]
  },
  {
   "cell_type": "code",
   "execution_count": 161,
   "metadata": {},
   "outputs": [],
   "source": [
    "a = [1, 1, 3, 1, 2, 1, 3, 3, 3, 3]"
   ]
  },
  {
   "cell_type": "code",
   "execution_count": 177,
   "metadata": {},
   "outputs": [],
   "source": [
    "def new(n, ar):\n",
    "    total = 0\n",
    "    for i in set(ar):\n",
    "        total += ar.count(i)//2\n",
    "    print(total)\n",
    "    return total"
   ]
  },
  {
   "cell_type": "code",
   "execution_count": 178,
   "metadata": {},
   "outputs": [
    {
     "name": "stdout",
     "output_type": "stream",
     "text": [
      "4\n"
     ]
    },
    {
     "data": {
      "text/plain": [
       "4"
      ]
     },
     "execution_count": 178,
     "metadata": {},
     "output_type": "execute_result"
    }
   ],
   "source": [
    "new(10, a)"
   ]
  },
  {
   "cell_type": "code",
   "execution_count": 181,
   "metadata": {},
   "outputs": [],
   "source": [
    "def sockMerchant(n, ar):\n",
    "    new_list = 0\n",
    "    for i in set(ar):\n",
    "        new_list += (ar.count(i)//2)\n",
    "\n",
    "    return new_list"
   ]
  },
  {
   "cell_type": "code",
   "execution_count": 182,
   "metadata": {},
   "outputs": [
    {
     "data": {
      "text/plain": [
       "4"
      ]
     },
     "execution_count": 182,
     "metadata": {},
     "output_type": "execute_result"
    }
   ],
   "source": [
    "sockMerchant(10, a)"
   ]
  },
  {
   "cell_type": "code",
   "execution_count": 173,
   "metadata": {},
   "outputs": [
    {
     "name": "stdout",
     "output_type": "stream",
     "text": [
      "5\n",
      "[1,1,1,4,1]\n"
     ]
    },
    {
     "ename": "ValueError",
     "evalue": "invalid literal for int() with base 10: '[1,1,1,4,1]'",
     "output_type": "error",
     "traceback": [
      "\u001b[0;31m---------------------------------------------------------------------------\u001b[0m",
      "\u001b[0;31mValueError\u001b[0m                                Traceback (most recent call last)",
      "\u001b[0;32m<ipython-input-173-6b528dba9f6a>\u001b[0m in \u001b[0;36m<module>\u001b[0;34m\u001b[0m\n\u001b[1;32m      1\u001b[0m \u001b[0minput\u001b[0m\u001b[0;34m(\u001b[0m\u001b[0;34m)\u001b[0m\u001b[0;34m\u001b[0m\u001b[0;34m\u001b[0m\u001b[0m\n\u001b[0;32m----> 2\u001b[0;31m \u001b[0mar\u001b[0m\u001b[0;34m=\u001b[0m\u001b[0mlist\u001b[0m\u001b[0;34m(\u001b[0m\u001b[0mmap\u001b[0m\u001b[0;34m(\u001b[0m\u001b[0mint\u001b[0m\u001b[0;34m,\u001b[0m\u001b[0minput\u001b[0m\u001b[0;34m(\u001b[0m\u001b[0;34m)\u001b[0m\u001b[0;34m.\u001b[0m\u001b[0msplit\u001b[0m\u001b[0;34m(\u001b[0m\u001b[0;34m)\u001b[0m\u001b[0;34m)\u001b[0m\u001b[0;34m)\u001b[0m\u001b[0;34m\u001b[0m\u001b[0;34m\u001b[0m\u001b[0m\n\u001b[0m\u001b[1;32m      3\u001b[0m \u001b[0mtotal\u001b[0m\u001b[0;34m=\u001b[0m\u001b[0;36m0\u001b[0m\u001b[0;34m\u001b[0m\u001b[0;34m\u001b[0m\u001b[0m\n\u001b[1;32m      4\u001b[0m \u001b[0;32mfor\u001b[0m \u001b[0mi\u001b[0m \u001b[0;32min\u001b[0m \u001b[0mset\u001b[0m\u001b[0;34m(\u001b[0m\u001b[0mar\u001b[0m\u001b[0;34m)\u001b[0m\u001b[0;34m:\u001b[0m\u001b[0;34m\u001b[0m\u001b[0;34m\u001b[0m\u001b[0m\n\u001b[1;32m      5\u001b[0m     \u001b[0mtotal\u001b[0m\u001b[0;34m+=\u001b[0m\u001b[0mar\u001b[0m\u001b[0;34m.\u001b[0m\u001b[0mcount\u001b[0m\u001b[0;34m(\u001b[0m\u001b[0mi\u001b[0m\u001b[0;34m)\u001b[0m\u001b[0;34m//\u001b[0m\u001b[0;36m2\u001b[0m\u001b[0;34m\u001b[0m\u001b[0;34m\u001b[0m\u001b[0m\n",
      "\u001b[0;31mValueError\u001b[0m: invalid literal for int() with base 10: '[1,1,1,4,1]'"
     ]
    }
   ],
   "source": [
    "input()\n",
    "ar=list(map(int,input().split()))\n",
    "total=0\n",
    "for i in set(ar):\n",
    "    total+=ar.count(i)//2\n",
    "print(total)"
   ]
  },
  {
   "cell_type": "code",
   "execution_count": 169,
   "metadata": {},
   "outputs": [
    {
     "data": {
      "text/plain": [
       "12"
      ]
     },
     "execution_count": 169,
     "metadata": {},
     "output_type": "execute_result"
    }
   ],
   "source": [
    "n"
   ]
  },
  {
   "cell_type": "code",
   "execution_count": 150,
   "metadata": {},
   "outputs": [
    {
     "data": {
      "text/plain": [
       "0"
      ]
     },
     "execution_count": 150,
     "metadata": {},
     "output_type": "execute_result"
    }
   ],
   "source": [
    "a.count(set(a))"
   ]
  },
  {
   "cell_type": "code",
   "execution_count": 149,
   "metadata": {},
   "outputs": [
    {
     "data": {
      "text/plain": [
       "<re.Match object; span=(0, 2), match='10'>"
      ]
     },
     "execution_count": 149,
     "metadata": {},
     "output_type": "execute_result"
    }
   ],
   "source": [
    "re.match(str(a[1]), '10')"
   ]
  },
  {
   "cell_type": "code",
   "execution_count": null,
   "metadata": {},
   "outputs": [],
   "source": []
  }
 ],
 "metadata": {
  "kernelspec": {
   "display_name": "Python 3",
   "language": "python",
   "name": "python3"
  },
  "language_info": {
   "codemirror_mode": {
    "name": "ipython",
    "version": 3
   },
   "file_extension": ".py",
   "mimetype": "text/x-python",
   "name": "python",
   "nbconvert_exporter": "python",
   "pygments_lexer": "ipython3",
   "version": "3.7.4"
  }
 },
 "nbformat": 4,
 "nbformat_minor": 2
}
