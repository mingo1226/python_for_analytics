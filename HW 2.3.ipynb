{
 "cells": [
  {
   "cell_type": "code",
   "execution_count": 73,
   "metadata": {},
   "outputs": [],
   "source": [
    "file = ['code1.c', 'code1.cpp','code1.cs','code2.cs','code3.c ','code4.c ','code5.cpp']"
   ]
  },
  {
   "cell_type": "code",
   "execution_count": 2,
   "metadata": {},
   "outputs": [
    {
     "data": {
      "text/plain": [
       "['code1.c',\n",
       " 'code1.cpp',\n",
       " 'code1.cs',\n",
       " 'code2.cs',\n",
       " 'code3.c',\n",
       " 'code4.c',\n",
       " 'code5.cpp']"
      ]
     },
     "execution_count": 2,
     "metadata": {},
     "output_type": "execute_result"
    }
   ],
   "source": [
    "file"
   ]
  },
  {
   "cell_type": "code",
   "execution_count": 4,
   "metadata": {},
   "outputs": [
    {
     "name": "stdout",
     "output_type": "stream",
     "text": [
      "True\n",
      "False\n",
      "False\n",
      "False\n",
      "True\n",
      "True\n",
      "False\n"
     ]
    }
   ],
   "source": [
    "for i in file:\n",
    "    print(i.endswith('.c'))"
   ]
  },
  {
   "cell_type": "code",
   "execution_count": 7,
   "metadata": {},
   "outputs": [
    {
     "data": {
      "text/plain": [
       "[True, False, False, False, True, True, False]"
      ]
     },
     "execution_count": 7,
     "metadata": {},
     "output_type": "execute_result"
    }
   ],
   "source": [
    "[i.endswith('.c') for i in file]"
   ]
  },
  {
   "cell_type": "code",
   "execution_count": 53,
   "metadata": {},
   "outputs": [
    {
     "data": {
      "text/plain": [
       "'00'"
      ]
     },
     "execution_count": 53,
     "metadata": {},
     "output_type": "execute_result"
    }
   ],
   "source": [
    "import re\n",
    "digits = re.findall(r'\\d+', name)\n",
    "digits[0]"
   ]
  },
  {
   "cell_type": "code",
   "execution_count": 34,
   "metadata": {},
   "outputs": [],
   "source": [
    "name = 'names_list_00'"
   ]
  },
  {
   "cell_type": "code",
   "execution_count": null,
   "metadata": {},
   "outputs": [],
   "source": [
    "import re\n",
    "re.findall(r'\\d+', name)"
   ]
  },
  {
   "cell_type": "code",
   "execution_count": 39,
   "metadata": {},
   "outputs": [
    {
     "data": {
      "text/plain": [
       "['0', '0']"
      ]
     },
     "execution_count": 39,
     "metadata": {},
     "output_type": "execute_result"
    }
   ],
   "source": [
    "[s for s in name if s.isdigit()]"
   ]
  },
  {
   "cell_type": "code",
   "execution_count": 75,
   "metadata": {},
   "outputs": [
    {
     "name": "stdout",
     "output_type": "stream",
     "text": [
      "code1.c\n",
      "True\n",
      "code1.cpp\n",
      "False\n",
      "code1.cs\n",
      "False\n",
      "code2.cs\n",
      "False\n",
      "code3.c\n",
      "True\n",
      "code4.c\n",
      "True\n",
      "code5.cpp\n",
      "False\n"
     ]
    }
   ],
   "source": [
    "for i in file:\n",
    "    print(i.strip())\n",
    "    print(i.strip().endswith('.c') == True)"
   ]
  },
  {
   "cell_type": "code",
   "execution_count": 19,
   "metadata": {},
   "outputs": [],
   "source": [
    "c_names_list_00 = []\n",
    "cpp_names_list_00 = []\n",
    "cs_names_list_00 = []\n",
    "\n",
    "for i in range(0,len(file)):\n",
    "    if file[i].endswith('.c') == True:\n",
    "        c_names_list_00.append(file[i])\n",
    "    elif file[i].endswith('cpp') == True:\n",
    "        cpp_names_list_00.append(file[i])\n",
    "        "
   ]
  },
  {
   "cell_type": "code",
   "execution_count": 17,
   "metadata": {},
   "outputs": [
    {
     "data": {
      "text/plain": [
       "['code1.c', 'code3.c', 'code4.c']"
      ]
     },
     "execution_count": 17,
     "metadata": {},
     "output_type": "execute_result"
    }
   ],
   "source": [
    "c_names_list_00"
   ]
  },
  {
   "cell_type": "code",
   "execution_count": 20,
   "metadata": {},
   "outputs": [],
   "source": [
    "a = ['a','b','b']"
   ]
  },
  {
   "cell_type": "code",
   "execution_count": 22,
   "metadata": {},
   "outputs": [
    {
     "data": {
      "text/plain": [
       "['a', 'b']"
      ]
     },
     "execution_count": 22,
     "metadata": {},
     "output_type": "execute_result"
    }
   ],
   "source": [
    "list(set(a))"
   ]
  },
  {
   "cell_type": "code",
   "execution_count": 23,
   "metadata": {},
   "outputs": [],
   "source": [
    "a = ['we promptly judged antique ivory buckles for the next prize']"
   ]
  },
  {
   "cell_type": "code",
   "execution_count": 24,
   "metadata": {},
   "outputs": [
    {
     "data": {
      "text/plain": [
       "{'we promptly judged antique ivory buckles for the next prize'}"
      ]
     },
     "execution_count": 24,
     "metadata": {},
     "output_type": "execute_result"
    }
   ],
   "source": [
    "set(a)"
   ]
  },
  {
   "cell_type": "code",
   "execution_count": 27,
   "metadata": {},
   "outputs": [],
   "source": [
    "new_list = []\n",
    "for i in a:\n",
    "    new_list.append(i)"
   ]
  },
  {
   "cell_type": "code",
   "execution_count": 29,
   "metadata": {},
   "outputs": [
    {
     "data": {
      "text/plain": [
       "['we promptly judged antique ivory buckles for the next prize']"
      ]
     },
     "execution_count": 29,
     "metadata": {},
     "output_type": "execute_result"
    }
   ],
   "source": [
    "new_list"
   ]
  },
  {
   "cell_type": "code",
   "execution_count": 32,
   "metadata": {},
   "outputs": [
    {
     "data": {
      "text/plain": [
       "'w'"
      ]
     },
     "execution_count": 32,
     "metadata": {},
     "output_type": "execute_result"
    }
   ],
   "source": [
    "a[0][0]"
   ]
  },
  {
   "cell_type": "code",
   "execution_count": 11,
   "metadata": {},
   "outputs": [
    {
     "name": "stdout",
     "output_type": "stream",
     "text": [
      "1\n",
      "2\n",
      "3\n",
      "4\n",
      "5\n",
      "6\n",
      "7\n",
      "8\n",
      "9\n",
      "10\n",
      "11\n",
      "12\n",
      "13\n",
      "14\n",
      "15\n",
      "Length is: 10\n"
     ]
    }
   ],
   "source": [
    "def longestPalSubstr(string): \n",
    "    maxLength = 1\n",
    "  \n",
    "    start = 0\n",
    "    length = len(string) \n",
    "  \n",
    "    low = 0\n",
    "    high = 0\n",
    "  \n",
    "    # One by one consider every character as center point of  \n",
    "    # even and length palindromes \n",
    "    for i in range(1, length): \n",
    "        # Find the longest even length palindrome with center \n",
    "    # points as i-1 and i. \n",
    "        low = i - 1\n",
    "        high = i \n",
    "        while low >= 0 and high < length and string[low] == string[high]: \n",
    "            if high - low + 1 > maxLength: \n",
    "                start = low \n",
    "                maxLength = high - low + 1\n",
    "            low -= 1\n",
    "            high += 1\n",
    "            \n",
    "        # Find the longest odd length palindrome with center  \n",
    "        # point as i \n",
    "        low = i - 1\n",
    "        high = i + 1\n",
    "        while low >= 0 and high < length and string[low] == string[high]: \n",
    "            if high - low + 1 > maxLength: \n",
    "                start = low \n",
    "                maxLength = high - low + 1\n",
    "            low -= 1\n",
    "            high += 1\n",
    "  \n",
    "   #print(\"Longest palindrome substring is:\")\n",
    "   # print(string[start:start + maxLength]\n",
    "  \n",
    "    return maxLength\n",
    "  \n",
    "# Driver program to test above functions \n",
    "string = \"forgeeksskeegfor\"\n",
    "print(\"Length is: \" + str(longestPalSubstr(string)))"
   ]
  },
  {
   "cell_type": "code",
   "execution_count": 313,
   "metadata": {},
   "outputs": [],
   "source": [
    "s = \"abccba\""
   ]
  },
  {
   "cell_type": "code",
   "execution_count": 314,
   "metadata": {},
   "outputs": [],
   "source": [
    "def countPalindromes(s):\n",
    "    # Write your code here\n",
    "    count = 0\n",
    "    for i in range(0,len(s)):\n",
    "        for b in range(0,i+1):\n",
    "            print(s[b:i+1])\n",
    "            count += s[b:i+1] == s[b:i+1][::-1]\n",
    "    return count"
   ]
  },
  {
   "cell_type": "code",
   "execution_count": 321,
   "metadata": {},
   "outputs": [],
   "source": [
    "def countPalindromes2(s):\n",
    "    \n",
    "    count = 0\n",
    "    i = 0\n",
    "    while i <= len(s):\n",
    "        for b in range(0,i):\n",
    "            print(s[b:i])\n",
    "            count += s[b:i] == s[b:i][::-1]\n",
    "        i += 1\n",
    "    return count"
   ]
  },
  {
   "cell_type": "code",
   "execution_count": 351,
   "metadata": {},
   "outputs": [],
   "source": [
    "def countPalindromes3(s):\n",
    "    \n",
    "    count = 0\n",
    "    i = 1\n",
    "    while i <= len(s):\n",
    "        b = 0\n",
    "        while b <= i:\n",
    "            print(s[b:i])\n",
    "            print(i,b)\n",
    "            count += s[b:i] == s[b:i][::-1]\n",
    "            b+=1\n",
    "        i += 1\n",
    "    return count"
   ]
  },
  {
   "cell_type": "code",
   "execution_count": 360,
   "metadata": {},
   "outputs": [
    {
     "data": {
      "text/plain": [
       "''"
      ]
     },
     "execution_count": 360,
     "metadata": {},
     "output_type": "execute_result"
    }
   ],
   "source": [
    "s[1:1]"
   ]
  },
  {
   "cell_type": "code",
   "execution_count": 359,
   "metadata": {},
   "outputs": [
    {
     "name": "stdout",
     "output_type": "stream",
     "text": [
      "a\n",
      "1 0\n",
      "\n",
      "1 1\n",
      "ab\n",
      "2 0\n",
      "b\n",
      "2 1\n",
      "\n",
      "2 2\n",
      "abc\n",
      "3 0\n",
      "bc\n",
      "3 1\n",
      "c\n",
      "3 2\n",
      "\n",
      "3 3\n",
      "abcc\n",
      "4 0\n",
      "bcc\n",
      "4 1\n",
      "cc\n",
      "4 2\n",
      "c\n",
      "4 3\n",
      "\n",
      "4 4\n",
      "abccb\n",
      "5 0\n",
      "bccb\n",
      "5 1\n",
      "ccb\n",
      "5 2\n",
      "cb\n",
      "5 3\n",
      "b\n",
      "5 4\n",
      "\n",
      "5 5\n",
      "abccba\n",
      "6 0\n",
      "bccba\n",
      "6 1\n",
      "ccba\n",
      "6 2\n",
      "cba\n",
      "6 3\n",
      "ba\n",
      "6 4\n",
      "a\n",
      "6 5\n",
      "\n",
      "6 6\n"
     ]
    },
    {
     "data": {
      "text/plain": [
       "15"
      ]
     },
     "execution_count": 359,
     "metadata": {},
     "output_type": "execute_result"
    }
   ],
   "source": [
    "import time\n",
    "\n",
    "#time_start = time.clock()\n",
    "countPalindromes3(s)\n",
    "#time_elapsed = (time.clock() - time_start)\n"
   ]
  },
  {
   "cell_type": "code",
   "execution_count": 358,
   "metadata": {},
   "outputs": [
    {
     "data": {
      "text/plain": [
       "0.0007599999999996498"
      ]
     },
     "execution_count": 358,
     "metadata": {},
     "output_type": "execute_result"
    }
   ],
   "source": [
    "time_elapsed"
   ]
  },
  {
   "cell_type": "code",
   "execution_count": 322,
   "metadata": {},
   "outputs": [
    {
     "name": "stdout",
     "output_type": "stream",
     "text": [
      "a\n",
      "ab\n",
      "b\n",
      "abc\n",
      "bc\n",
      "c\n",
      "abcc\n",
      "bcc\n",
      "cc\n",
      "c\n",
      "abccb\n",
      "bccb\n",
      "ccb\n",
      "cb\n",
      "b\n",
      "abccba\n",
      "bccba\n",
      "ccba\n",
      "cba\n",
      "ba\n",
      "a\n"
     ]
    },
    {
     "data": {
      "text/plain": [
       "9"
      ]
     },
     "execution_count": 322,
     "metadata": {},
     "output_type": "execute_result"
    }
   ],
   "source": [
    "countPalindromes2(s)"
   ]
  },
  {
   "cell_type": "code",
   "execution_count": null,
   "metadata": {},
   "outputs": [],
   "source": [
    "index = N\n",
    "total = 0\n",
    "while N > 0:\n",
    "    total += N   \n",
    "    N-=1"
   ]
  },
  {
   "cell_type": "code",
   "execution_count": 56,
   "metadata": {},
   "outputs": [],
   "source": [
    "from sys import argv\n",
    "\n",
    "def count(drome):\n",
    "    total = len(drome)\n",
    "    i = 1\n",
    "    while i <= len(drome):\n",
    "        for j in range(0, len(drome) - i + 1):\n",
    "            if ispalin(drome[j:j+i]):\n",
    "                total += 1\n",
    "        i += 1\n",
    "    return total\n",
    "\n",
    "\n",
    "def ispalin(txt):\n",
    "    if len(txt) == 1: return False\n",
    "    i = 0\n",
    "    j = len(txt) - 1\n",
    "    while i <= j:\n",
    "        if txt[i] != txt[j]:\n",
    "            return False\n",
    "        i += 1\n",
    "        j -= 1\n",
    "    return True"
   ]
  },
  {
   "cell_type": "code",
   "execution_count": 57,
   "metadata": {},
   "outputs": [
    {
     "ename": "IndentationError",
     "evalue": "expected an indented block (<ipython-input-57-20054ef7dd13>, line 9)",
     "output_type": "error",
     "traceback": [
      "\u001b[0;36m  File \u001b[0;32m\"<ipython-input-57-20054ef7dd13>\"\u001b[0;36m, line \u001b[0;32m9\u001b[0m\n\u001b[0;31m    i += 1\u001b[0m\n\u001b[0m    ^\u001b[0m\n\u001b[0;31mIndentationError\u001b[0m\u001b[0;31m:\u001b[0m expected an indented block\n"
     ]
    }
   ],
   "source": [
    "def count(drome):\n",
    "    total = len(drome)\n",
    "    i = 1\n",
    "    while i <= len(drome):\n",
    "        for j in range(0, len(drome) - i + 1):\n",
    "            if ispalin(drome[j:j+i]):\n",
    "                total += 1\n",
    "            else:\n",
    "        i += 1\n",
    "    return total"
   ]
  },
  {
   "cell_type": "code",
   "execution_count": 58,
   "metadata": {},
   "outputs": [
    {
     "data": {
      "text/plain": [
       "23"
      ]
     },
     "execution_count": 58,
     "metadata": {},
     "output_type": "execute_result"
    }
   ],
   "source": [
    "count(s)"
   ]
  },
  {
   "cell_type": "code",
   "execution_count": 22,
   "metadata": {},
   "outputs": [
    {
     "data": {
      "text/plain": [
       "23"
      ]
     },
     "execution_count": 22,
     "metadata": {},
     "output_type": "execute_result"
    }
   ],
   "source": [
    "countPalindromes(s)"
   ]
  },
  {
   "cell_type": "code",
   "execution_count": 523,
   "metadata": {},
   "outputs": [],
   "source": [
    "Regex_Pattern = r\"^(([ac]{2}|[bd]{2})|([ac][bd]|[bd][ac])([ac]{2}|[bd]{2})*([ac][bd]|[bd][ac]))*$\""
   ]
  },
  {
   "cell_type": "code",
   "execution_count": 532,
   "metadata": {},
   "outputs": [],
   "source": [
    "Regex_Pattern = r\"([ac]{2}|[bd]{2})|([ac][bd]|[bd][ac])\""
   ]
  },
  {
   "cell_type": "code",
   "execution_count": 533,
   "metadata": {},
   "outputs": [
    {
     "name": "stdout",
     "output_type": "stream",
     "text": [
      "aaccb\n",
      "true\n"
     ]
    }
   ],
   "source": [
    "import re\n",
    "print(str(bool(re.search(Regex_Pattern, input()))).lower())"
   ]
  },
  {
   "cell_type": "code",
   "execution_count": 503,
   "metadata": {},
   "outputs": [],
   "source": [
    "#https://regex101.com/"
   ]
  },
  {
   "cell_type": "code",
   "execution_count": null,
   "metadata": {},
   "outputs": [],
   "source": []
  }
 ],
 "metadata": {
  "kernelspec": {
   "display_name": "Python 3",
   "language": "python",
   "name": "python3"
  },
  "language_info": {
   "codemirror_mode": {
    "name": "ipython",
    "version": 3
   },
   "file_extension": ".py",
   "mimetype": "text/x-python",
   "name": "python",
   "nbconvert_exporter": "python",
   "pygments_lexer": "ipython3",
   "version": "3.7.4"
  }
 },
 "nbformat": 4,
 "nbformat_minor": 2
}
