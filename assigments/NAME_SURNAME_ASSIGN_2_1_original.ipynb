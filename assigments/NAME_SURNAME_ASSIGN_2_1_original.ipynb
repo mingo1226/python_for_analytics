{
 "cells": [
  {
   "cell_type": "markdown",
   "metadata": {},
   "source": [
    "## Assignment 2\n",
    "* Due: Tuesday 2/25/2020 by  9 PM \n",
    "* Topics: pandas and numpy"
   ]
  },
  {
   "cell_type": "markdown",
   "metadata": {},
   "source": [
    "## Instructions\n",
    "* Download your notebook as a PDF\n",
    "* Turn in both the notebook and PDF\n",
    "* Show the output of your code working on the sample data, like below.  \n",
    "* If techniques are specified, use them.  Otherwise, feel free to solve the problem how you want.  \n",
    "* Try to keep your code clean, concise and avoid loops if necessary.  \n",
    "* You have to show your work (code).\n",
    "* You will be graded:\n",
    "    * The functionality of your code (Does it do what it was meant to)\n",
    "    * Showing the output on the sample data provided\n",
    "    * How concise it is (did you use a for loop when you could have used a comprehension for instance).  Simply put, try and write clean, concise and readable code (don't use 10 lines for what could have been done in 4).\n",
    "    * Even if the answer isn't perfect, make an honest attempt as partial credit will be given."
   ]
  },
  {
   "cell_type": "markdown",
   "metadata": {},
   "source": [
    "## Question 1\n",
    "* sklearn has the iris dataset built in\n",
    "* this is what we will be working with\n",
    "* put the iris data into a dataframe where we have 5 columns (the 4 features and the target)\n",
    "* but the target shouldn't be numerical, it should be the actual label (so put setosa not 0 in the target column) "
   ]
  },
  {
   "cell_type": "code",
   "execution_count": 2,
   "metadata": {},
   "outputs": [],
   "source": [
    "from sklearn.datasets import load_iris\n",
    "import pandas as pd\n",
    "import numpy as np\n",
    "\n",
    "iris = load_iris()"
   ]
  },
  {
   "cell_type": "code",
   "execution_count": 21,
   "metadata": {},
   "outputs": [],
   "source": [
    "feature_names = iris.feature_names\n",
    "features = pd.DataFrame(iris.data, columns = feature_names)\n",
    "target = pd.DataFrame(iris.target, columns = ['target'])"
   ]
  },
  {
   "cell_type": "code",
   "execution_count": 22,
   "metadata": {},
   "outputs": [
    {
     "data": {
      "text/html": [
       "<div>\n",
       "<style scoped>\n",
       "    .dataframe tbody tr th:only-of-type {\n",
       "        vertical-align: middle;\n",
       "    }\n",
       "\n",
       "    .dataframe tbody tr th {\n",
       "        vertical-align: top;\n",
       "    }\n",
       "\n",
       "    .dataframe thead th {\n",
       "        text-align: right;\n",
       "    }\n",
       "</style>\n",
       "<table border=\"1\" class=\"dataframe\">\n",
       "  <thead>\n",
       "    <tr style=\"text-align: right;\">\n",
       "      <th></th>\n",
       "      <th>sepal length (cm)</th>\n",
       "      <th>sepal width (cm)</th>\n",
       "      <th>petal length (cm)</th>\n",
       "      <th>petal width (cm)</th>\n",
       "      <th>target</th>\n",
       "    </tr>\n",
       "  </thead>\n",
       "  <tbody>\n",
       "    <tr>\n",
       "      <td>0</td>\n",
       "      <td>5.1</td>\n",
       "      <td>3.5</td>\n",
       "      <td>1.4</td>\n",
       "      <td>0.2</td>\n",
       "      <td>0</td>\n",
       "    </tr>\n",
       "    <tr>\n",
       "      <td>1</td>\n",
       "      <td>4.9</td>\n",
       "      <td>3.0</td>\n",
       "      <td>1.4</td>\n",
       "      <td>0.2</td>\n",
       "      <td>0</td>\n",
       "    </tr>\n",
       "    <tr>\n",
       "      <td>2</td>\n",
       "      <td>4.7</td>\n",
       "      <td>3.2</td>\n",
       "      <td>1.3</td>\n",
       "      <td>0.2</td>\n",
       "      <td>0</td>\n",
       "    </tr>\n",
       "    <tr>\n",
       "      <td>3</td>\n",
       "      <td>4.6</td>\n",
       "      <td>3.1</td>\n",
       "      <td>1.5</td>\n",
       "      <td>0.2</td>\n",
       "      <td>0</td>\n",
       "    </tr>\n",
       "    <tr>\n",
       "      <td>4</td>\n",
       "      <td>5.0</td>\n",
       "      <td>3.6</td>\n",
       "      <td>1.4</td>\n",
       "      <td>0.2</td>\n",
       "      <td>0</td>\n",
       "    </tr>\n",
       "    <tr>\n",
       "      <td>...</td>\n",
       "      <td>...</td>\n",
       "      <td>...</td>\n",
       "      <td>...</td>\n",
       "      <td>...</td>\n",
       "      <td>...</td>\n",
       "    </tr>\n",
       "    <tr>\n",
       "      <td>145</td>\n",
       "      <td>6.7</td>\n",
       "      <td>3.0</td>\n",
       "      <td>5.2</td>\n",
       "      <td>2.3</td>\n",
       "      <td>2</td>\n",
       "    </tr>\n",
       "    <tr>\n",
       "      <td>146</td>\n",
       "      <td>6.3</td>\n",
       "      <td>2.5</td>\n",
       "      <td>5.0</td>\n",
       "      <td>1.9</td>\n",
       "      <td>2</td>\n",
       "    </tr>\n",
       "    <tr>\n",
       "      <td>147</td>\n",
       "      <td>6.5</td>\n",
       "      <td>3.0</td>\n",
       "      <td>5.2</td>\n",
       "      <td>2.0</td>\n",
       "      <td>2</td>\n",
       "    </tr>\n",
       "    <tr>\n",
       "      <td>148</td>\n",
       "      <td>6.2</td>\n",
       "      <td>3.4</td>\n",
       "      <td>5.4</td>\n",
       "      <td>2.3</td>\n",
       "      <td>2</td>\n",
       "    </tr>\n",
       "    <tr>\n",
       "      <td>149</td>\n",
       "      <td>5.9</td>\n",
       "      <td>3.0</td>\n",
       "      <td>5.1</td>\n",
       "      <td>1.8</td>\n",
       "      <td>2</td>\n",
       "    </tr>\n",
       "  </tbody>\n",
       "</table>\n",
       "<p>150 rows × 5 columns</p>\n",
       "</div>"
      ],
      "text/plain": [
       "     sepal length (cm)  sepal width (cm)  petal length (cm)  petal width (cm)  \\\n",
       "0                  5.1               3.5                1.4               0.2   \n",
       "1                  4.9               3.0                1.4               0.2   \n",
       "2                  4.7               3.2                1.3               0.2   \n",
       "3                  4.6               3.1                1.5               0.2   \n",
       "4                  5.0               3.6                1.4               0.2   \n",
       "..                 ...               ...                ...               ...   \n",
       "145                6.7               3.0                5.2               2.3   \n",
       "146                6.3               2.5                5.0               1.9   \n",
       "147                6.5               3.0                5.2               2.0   \n",
       "148                6.2               3.4                5.4               2.3   \n",
       "149                5.9               3.0                5.1               1.8   \n",
       "\n",
       "     target  \n",
       "0         0  \n",
       "1         0  \n",
       "2         0  \n",
       "3         0  \n",
       "4         0  \n",
       "..      ...  \n",
       "145       2  \n",
       "146       2  \n",
       "147       2  \n",
       "148       2  \n",
       "149       2  \n",
       "\n",
       "[150 rows x 5 columns]"
      ]
     },
     "execution_count": 22,
     "metadata": {},
     "output_type": "execute_result"
    }
   ],
   "source": [
    "pd.concat([features, target],  axis = 1)"
   ]
  },
  {
   "cell_type": "code",
   "execution_count": 19,
   "metadata": {},
   "outputs": [
    {
     "data": {
      "text/plain": [
       "array([0, 0, 0, 0, 0, 0, 0, 0, 0, 0, 0, 0, 0, 0, 0, 0, 0, 0, 0, 0, 0, 0,\n",
       "       0, 0, 0, 0, 0, 0, 0, 0, 0, 0, 0, 0, 0, 0, 0, 0, 0, 0, 0, 0, 0, 0,\n",
       "       0, 0, 0, 0, 0, 0, 1, 1, 1, 1, 1, 1, 1, 1, 1, 1, 1, 1, 1, 1, 1, 1,\n",
       "       1, 1, 1, 1, 1, 1, 1, 1, 1, 1, 1, 1, 1, 1, 1, 1, 1, 1, 1, 1, 1, 1,\n",
       "       1, 1, 1, 1, 1, 1, 1, 1, 1, 1, 1, 1, 2, 2, 2, 2, 2, 2, 2, 2, 2, 2,\n",
       "       2, 2, 2, 2, 2, 2, 2, 2, 2, 2, 2, 2, 2, 2, 2, 2, 2, 2, 2, 2, 2, 2,\n",
       "       2, 2, 2, 2, 2, 2, 2, 2, 2, 2, 2, 2, 2, 2, 2, 2, 2, 2])"
      ]
     },
     "execution_count": 19,
     "metadata": {},
     "output_type": "execute_result"
    }
   ],
   "source": [
    "iris.target"
   ]
  },
  {
   "cell_type": "code",
   "execution_count": 79,
   "metadata": {},
   "outputs": [
    {
     "data": {
      "text/plain": [
       "array(['setosa', 'versicolor', 'virginica'], dtype='<U10')"
      ]
     },
     "execution_count": 79,
     "metadata": {},
     "output_type": "execute_result"
    }
   ],
   "source": [
    "iris.target_names"
   ]
  },
  {
   "cell_type": "code",
   "execution_count": 81,
   "metadata": {},
   "outputs": [],
   "source": [
    "new_list = []\n",
    "for i in iris.target:\n",
    "    if i == 0:\n",
    "        new_list.append(iris.target_names[0])\n",
    "    elif i == 1:\n",
    "        new_list.append(iris.target_names[1])\n",
    "    elif i == 2:\n",
    "        new_list.append(iris.target_names[2])"
   ]
  },
  {
   "cell_type": "code",
   "execution_count": 82,
   "metadata": {},
   "outputs": [
    {
     "data": {
      "text/plain": [
       "['setosa',\n",
       " 'setosa',\n",
       " 'setosa',\n",
       " 'setosa',\n",
       " 'setosa',\n",
       " 'setosa',\n",
       " 'setosa',\n",
       " 'setosa',\n",
       " 'setosa',\n",
       " 'setosa',\n",
       " 'setosa',\n",
       " 'setosa',\n",
       " 'setosa',\n",
       " 'setosa',\n",
       " 'setosa',\n",
       " 'setosa',\n",
       " 'setosa',\n",
       " 'setosa',\n",
       " 'setosa',\n",
       " 'setosa',\n",
       " 'setosa',\n",
       " 'setosa',\n",
       " 'setosa',\n",
       " 'setosa',\n",
       " 'setosa',\n",
       " 'setosa',\n",
       " 'setosa',\n",
       " 'setosa',\n",
       " 'setosa',\n",
       " 'setosa',\n",
       " 'setosa',\n",
       " 'setosa',\n",
       " 'setosa',\n",
       " 'setosa',\n",
       " 'setosa',\n",
       " 'setosa',\n",
       " 'setosa',\n",
       " 'setosa',\n",
       " 'setosa',\n",
       " 'setosa',\n",
       " 'setosa',\n",
       " 'setosa',\n",
       " 'setosa',\n",
       " 'setosa',\n",
       " 'setosa',\n",
       " 'setosa',\n",
       " 'setosa',\n",
       " 'setosa',\n",
       " 'setosa',\n",
       " 'setosa',\n",
       " 'versicolor',\n",
       " 'versicolor',\n",
       " 'versicolor',\n",
       " 'versicolor',\n",
       " 'versicolor',\n",
       " 'versicolor',\n",
       " 'versicolor',\n",
       " 'versicolor',\n",
       " 'versicolor',\n",
       " 'versicolor',\n",
       " 'versicolor',\n",
       " 'versicolor',\n",
       " 'versicolor',\n",
       " 'versicolor',\n",
       " 'versicolor',\n",
       " 'versicolor',\n",
       " 'versicolor',\n",
       " 'versicolor',\n",
       " 'versicolor',\n",
       " 'versicolor',\n",
       " 'versicolor',\n",
       " 'versicolor',\n",
       " 'versicolor',\n",
       " 'versicolor',\n",
       " 'versicolor',\n",
       " 'versicolor',\n",
       " 'versicolor',\n",
       " 'versicolor',\n",
       " 'versicolor',\n",
       " 'versicolor',\n",
       " 'versicolor',\n",
       " 'versicolor',\n",
       " 'versicolor',\n",
       " 'versicolor',\n",
       " 'versicolor',\n",
       " 'versicolor',\n",
       " 'versicolor',\n",
       " 'versicolor',\n",
       " 'versicolor',\n",
       " 'versicolor',\n",
       " 'versicolor',\n",
       " 'versicolor',\n",
       " 'versicolor',\n",
       " 'versicolor',\n",
       " 'versicolor',\n",
       " 'versicolor',\n",
       " 'versicolor',\n",
       " 'versicolor',\n",
       " 'versicolor',\n",
       " 'versicolor',\n",
       " 'virginica',\n",
       " 'virginica',\n",
       " 'virginica',\n",
       " 'virginica',\n",
       " 'virginica',\n",
       " 'virginica',\n",
       " 'virginica',\n",
       " 'virginica',\n",
       " 'virginica',\n",
       " 'virginica',\n",
       " 'virginica',\n",
       " 'virginica',\n",
       " 'virginica',\n",
       " 'virginica',\n",
       " 'virginica',\n",
       " 'virginica',\n",
       " 'virginica',\n",
       " 'virginica',\n",
       " 'virginica',\n",
       " 'virginica',\n",
       " 'virginica',\n",
       " 'virginica',\n",
       " 'virginica',\n",
       " 'virginica',\n",
       " 'virginica',\n",
       " 'virginica',\n",
       " 'virginica',\n",
       " 'virginica',\n",
       " 'virginica',\n",
       " 'virginica',\n",
       " 'virginica',\n",
       " 'virginica',\n",
       " 'virginica',\n",
       " 'virginica',\n",
       " 'virginica',\n",
       " 'virginica',\n",
       " 'virginica',\n",
       " 'virginica',\n",
       " 'virginica',\n",
       " 'virginica',\n",
       " 'virginica',\n",
       " 'virginica',\n",
       " 'virginica',\n",
       " 'virginica',\n",
       " 'virginica',\n",
       " 'virginica',\n",
       " 'virginica',\n",
       " 'virginica',\n",
       " 'virginica',\n",
       " 'virginica']"
      ]
     },
     "execution_count": 82,
     "metadata": {},
     "output_type": "execute_result"
    }
   ],
   "source": [
    "new_list"
   ]
  },
  {
   "cell_type": "markdown",
   "metadata": {},
   "source": [
    "## Question 2\n",
    "* using the data array from the iris variable (should be a numpy array of size 150x4), for each row and column, find the sum, min and max\n",
    "* print out the results, but for the rows, show only the first 5 elements of the array and display the length (otherwise it will be large arrays since each row has a value)"
   ]
  },
  {
   "cell_type": "code",
   "execution_count": 74,
   "metadata": {},
   "outputs": [
    {
     "data": {
      "text/plain": [
       "[(10.2, 0.2, 5.1),\n",
       " (9.5, 0.2, 4.9),\n",
       " (9.4, 0.2, 4.7),\n",
       " (9.399999999999999, 0.2, 4.6),\n",
       " (10.2, 0.2, 5.0)]"
      ]
     },
     "execution_count": 74,
     "metadata": {},
     "output_type": "execute_result"
    }
   ],
   "source": [
    "#first 5 rows rows\n",
    "list(map(lambda x: (x.sum(), x.min(), x.max()), iris.data[0:5]))"
   ]
  },
  {
   "cell_type": "code",
   "execution_count": 92,
   "metadata": {},
   "outputs": [
    {
     "data": {
      "text/plain": [
       "[(10.2, 0.2, 5.1),\n",
       " (9.5, 0.2, 4.9),\n",
       " (9.4, 0.2, 4.7),\n",
       " (9.399999999999999, 0.2, 4.6),\n",
       " (10.2, 0.2, 5.0)]"
      ]
     },
     "execution_count": 92,
     "metadata": {},
     "output_type": "execute_result"
    }
   ],
   "source": [
    "#alternate first 5 rows\n",
    "[(j.sum(axis = 0), min(j), max(j)) for j in iris.data[0:5]]"
   ]
  },
  {
   "cell_type": "code",
   "execution_count": 101,
   "metadata": {},
   "outputs": [
    {
     "name": "stdout",
     "output_type": "stream",
     "text": [
      "[10.2  9.5  9.4  9.4 10.2] [0.2 0.2 0.2 0.2 0.2] [5.1 4.9 4.7 4.6 5. ] 150\n"
     ]
    }
   ],
   "source": [
    "#rows\n",
    "print(iris.data.sum(axis = 1)[0:5], iris.data.min(axis = 1)[0:5], iris.data.max(axis = 1)[0:5], iris.data.shape[0])"
   ]
  },
  {
   "cell_type": "code",
   "execution_count": 102,
   "metadata": {},
   "outputs": [
    {
     "name": "stdout",
     "output_type": "stream",
     "text": [
      "[876.5 458.6 563.7 179.9] [4.3 2.  1.  0.1] [7.9 4.4 6.9 2.5]\n"
     ]
    }
   ],
   "source": [
    "#columns\n",
    "print(iris.data.sum(axis = 0)[0:5], iris.data.min(axis = 0)[0:5], iris.data.max(axis = 0)[0:5])"
   ]
  },
  {
   "cell_type": "code",
   "execution_count": 71,
   "metadata": {},
   "outputs": [],
   "source": [
    "#iris.data.T"
   ]
  },
  {
   "cell_type": "markdown",
   "metadata": {},
   "source": [
    "## Question 3\n",
    "* write a function to return the multiplication of two matrices\n",
    "* use some sort of error handling to make sure the dimensions are compatible\n",
    "* use the function to multiply the iris data (don't use the label column) by it's transpose\n",
    "* what are the dimensions of the result\n",
    "* put the sum of each row of the resulting matrix into a vector, printing out the length and first 5 elements.\n",
    "* put the sum of each column of the resulting matrix in a vector and print it out."
   ]
  },
  {
   "cell_type": "code",
   "execution_count": 65,
   "metadata": {},
   "outputs": [],
   "source": [
    "def matrix_multiply(a, b):\n",
    "    assert a.shape[1] == b.shape[0], 'dimensions of matrix do not allow for multiplication'\n",
    "    \n",
    "    result = a@b    \n",
    "    return result"
   ]
  },
  {
   "cell_type": "code",
   "execution_count": 66,
   "metadata": {},
   "outputs": [
    {
     "data": {
      "text/plain": [
       "((150, 4), (4, 150))"
      ]
     },
     "execution_count": 66,
     "metadata": {},
     "output_type": "execute_result"
    }
   ],
   "source": [
    "iris.data.shape, iris.data.T.shape"
   ]
  },
  {
   "cell_type": "code",
   "execution_count": 68,
   "metadata": {},
   "outputs": [
    {
     "data": {
      "text/plain": [
       "(150, 150)"
      ]
     },
     "execution_count": 68,
     "metadata": {},
     "output_type": "execute_result"
    }
   ],
   "source": [
    "newmatrix = matrix_multiply(iris.data, iris.data.T)\n",
    "newmatrix.shape"
   ]
  },
  {
   "cell_type": "code",
   "execution_count": 83,
   "metadata": {},
   "outputs": [
    {
     "data": {
      "text/plain": [
       "array([[40.26, 37.49, 37.03, ..., 51.33, 51.54, 48.09],\n",
       "       [37.49, 35.01, 34.49, ..., 48.53, 48.6 , 45.41],\n",
       "       [37.03, 34.49, 34.06, ..., 47.31, 47.5 , 44.32],\n",
       "       ...,\n",
       "       [51.33, 48.53, 47.31, ..., 82.29, 83.18, 77.47],\n",
       "       [51.54, 48.6 , 47.5 , ..., 83.18, 84.45, 78.46],\n",
       "       [48.09, 45.41, 44.32, ..., 77.47, 78.46, 73.06]])"
      ]
     },
     "execution_count": 83,
     "metadata": {},
     "output_type": "execute_result"
    }
   ],
   "source": [
    "newmatrix = matrix_multiply(iris.data, iris.data.T)\n",
    "newmatrix"
   ]
  },
  {
   "cell_type": "code",
   "execution_count": 87,
   "metadata": {},
   "outputs": [
    {
     "name": "stdout",
     "output_type": "stream",
     "text": [
      "The length of the vector is: 150. The first 5 elements are: [6900.41, 6495.810000000001, 6355.860000000001, 6335.089999999998, 6858.620000000001]\n"
     ]
    }
   ],
   "source": [
    "row_vector = list(map(lambda x: x.sum(), newmatrix))\n",
    "print('The length of the vector is: {}. The first 5 elements are: {}'.format(len(row_vector), row_vector[0:5]))"
   ]
  },
  {
   "cell_type": "code",
   "execution_count": 84,
   "metadata": {},
   "outputs": [
    {
     "name": "stdout",
     "output_type": "stream",
     "text": [
      "[6900.41, 6495.810000000001, 6355.860000000001, 6335.089999999998, 6858.620000000001, 7551.89, 6434.289999999999, 6823.27, 6011.700000000001, 6580.05, 7311.450000000001, 6704.34, 6390.17, 5782.810000000001, 7630.5199999999995, 7931.400000000001, 7326.41, 6918.4, 7750.99, 7112.349999999999, 7286.61, 7084.479999999998, 6282.54, 7031.769999999999, 6873.449999999999, 6696.200000000001, 6915.620000000001, 7044.429999999999, 6942.200000000001, 6524.969999999999, 6566.759999999998, 7209.85, 7301.6, 7572.03, 6598.04, 6562.4400000000005, 7194.64, 6752.980000000001, 6001.19, 6910.92, 6774.380000000001, 5785.81, 6092.91, 6997.459999999999, 7355.82, 6426.150000000001, 7150.73, 6324.58, 7223.8, 6721.04, 10504.27, 9883.62, 10501.490000000002, 8364.199999999999, 9844.199999999999, 9050.649999999998, 9972.56, 7435.6, 9941.73, 8246.309999999998, 7452.549999999999, 9184.539999999999, 8702.619999999999, 9577.84, 8501.529999999999, 10026.35, 9090.699999999999, 8812.99, 9249.72, 8451.22, 9668.45, 9119.399999999998, 9700.43, 9496.0, 9597.32, 9892.839999999998, 10201.9, 10372.68, 9395.439999999999, 8341.26, 8261.34, 8186.979999999999, 8736.23, 9659.930000000002, 8915.400000000001, 9642.73, 10213.45, 9290.88, 8829.239999999998, 8455.919999999998, 8709.27, 9567.33, 8746.740000000002, 7477.389999999998, 8748.029999999999, 8955.27, 8927.400000000001, 9422.02, 7505.640000000001, 8825.169999999998, 10867.28, 9538.6, 11302.57, 10332.429999999998, 10738.29, 12135.409999999998, 8283.83, 11603.52, 10612.33, 11850.080000000002, 10399.440000000002, 10177.240000000002, 10814.140000000001, 9320.849999999999, 9674.41, 10478.5, 10497.220000000001, 12664.3, 12244.710000000003, 9356.27, 11142.23, 9314.41, 12169.720000000001, 9846.119999999999, 10976.810000000001, 11484.34, 9747.96, 9808.4, 10428.19, 11243.899999999998, 11550.560000000001, 12634.509999999998, 10446.18, 9950.75, 9947.59, 11977.19, 10669.669999999998, 10455.43, 9664.380000000001, 10891.280000000002, 10882.69, 10758.15, 9538.6, 11167.32, 11048.770000000002, 10593.36, 9828.76, 10364.09, 10451.29, 9745.84]\n"
     ]
    }
   ],
   "source": [
    "col_vector = [k.sum() for k in newmatrix[:].T]\n",
    "print(col_vector)"
   ]
  },
  {
   "cell_type": "markdown",
   "metadata": {},
   "source": [
    "## Question 4\n",
    "* create a subset of the iris dataframe that doesn't have the label column\n",
    "* for each row, find the index of the min and max feature value\n",
    "    * if we have a row with values [10,2,3,4] we want to return 1 for min and 0 for max, as these are the indicies that align to the min and max values\n",
    "* the result should be two arrays of length 150 (one for each row) with the indices of the min and max value"
   ]
  },
  {
   "cell_type": "markdown",
   "metadata": {},
   "source": [
    "## Question 5\n",
    "* Use the above two arrays to make a dataframe with 2 columns, the first being the feature of minimum value and the second the feature name of the maximum value\n",
    "* note, don't have the cell values be the index value of the min/max value, have it be the feature name\n",
    "    * a row should be [min_val = sepal width (cm), max_val = petal length (cm)]\n",
    "* show the distributions for max and min features (how many times is each feature the max and min value for a row)"
   ]
  },
  {
   "cell_type": "markdown",
   "metadata": {},
   "source": [
    "## Question 6\n",
    "* Describe a situation the functionality from question 4 and 5 could be of use?"
   ]
  },
  {
   "cell_type": "markdown",
   "metadata": {},
   "source": [
    "## Question 7\n",
    "* sort the feature values for each row and replace the indices with the feature names\n",
    "    * so each row will have 4 columns, the first column being the feature name that is the highest value, the second column being the feature name that is the second highest value, etc.\n",
    "* note, watch out how argsort in numpy works.  you will need to reverse the order somehow.  the sorted(reverse = True) functionality might be of help.\n",
    "* make sure to replace the index values with the feature name, as we did above\n",
    "* put the resulting 2-d array into a pandas dataframe and print the first 5 rows.\n",
    "* hint, look at the apply_along_axis() method for numpy arrays"
   ]
  },
  {
   "cell_type": "markdown",
   "metadata": {},
   "source": [
    "## Question 8\n",
    "* apply z-score normalization to each column in the iris data (note you do not need the target/label column)\n",
    "* column wise meaning, treat each column as an array, and find the standard deviations and means of that column\n",
    "* note, you can use zscore from scipy.stats\n",
    "* results should be a pandas dataframe, printing out 5 rows and running the describe() method on the dataframe"
   ]
  },
  {
   "cell_type": "markdown",
   "metadata": {},
   "source": [
    "## Question 9\n",
    "* make a function that takes in a 2d numpy array X, a 1d numpy array Y and the size the training data, test data and valiation datasets.  \n",
    "* return 6 items\n",
    "    * train_x, train_y, test_x, test_y, val_x, val_y\n",
    "* do not use any modules.  this can be solved using bracket notation to subset.  Note // will take care of decimals in doing division. you could also use int() to convert the float to a whole number\n",
    "* make the params for the training, test and val size be decimals, that repsent percentages of the data.  For instance .8, .1, .1 means an 80% training, 10% test and 10% validation split\n",
    "* use an assert to make sure the numbers add to 1\n",
    "* print out the dimensions of all 6 elements, using iris as a test case with an 80-10-10 split"
   ]
  },
  {
   "cell_type": "markdown",
   "metadata": {},
   "source": [
    "## Question 10\n",
    "* using pandas, find the sum of each feature by species type (label)\n",
    "* do the same, but find the min, max and median as well"
   ]
  },
  {
   "cell_type": "markdown",
   "metadata": {},
   "source": [
    "## Question 11\n",
    "* mean center each column of the iris dataframe (excluding the label column of course)\n",
    "* this means, for each column, the mean should be zero.  to accomplish this we can subtract the column mean from each element of the column\n",
    "* note, broadcasting, which if we have say a 150 row and 4 column dataframe, can  take a row vector of size 4 and apply it to each element\n",
    "*  thus, we can answer this questions doing something like df - df_col_means\n",
    "* run the describe() method at the end to show the data has been mean center"
   ]
  },
  {
   "cell_type": "markdown",
   "metadata": {},
   "source": [
    "## Quesiton 12\n",
    "* Explain what the axis mean in regards to a pandas dataframe and numpy array\n",
    "* How would you groupby two columns in pandas?\n",
    "* What functions are used to read in csvs and excel files in pandas"
   ]
  },
  {
   "cell_type": "markdown",
   "metadata": {},
   "source": [
    "## Question 13\n",
    "* using Pandas, subset the dataset for only species setosa and petal length > 1.3\n",
    "* sum the feature columns and display the results for each (excluding the label column)\n",
    "* do the same, but change the and to an or, and repeat the same calculation"
   ]
  },
  {
   "cell_type": "markdown",
   "metadata": {},
   "source": [
    "## Question 14\n",
    "* write a lambda that subtracts 2 from all elements of a pandas dataframe\n",
    "* display the top 5 rows\n",
    "* use the same lambda,  but applying it to the sepal length  column only\n",
    "* so the output should be the top 5 rows of a dataframe where all cells have had 2 subtracted and then another dataframe where only sepal length has 2 subtracted from it"
   ]
  },
  {
   "cell_type": "markdown",
   "metadata": {},
   "source": [
    "## Question 15\n",
    "* normalize each column of pandas dataframe to 0-1 scale.\n",
    "* hint\n",
    "    * 0-1 is done by using (X - xmin)/(xmax - xmin)\n",
    "    * the approach should be similar to when we meean centered the dataframe"
   ]
  },
  {
   "cell_type": "markdown",
   "metadata": {},
   "source": [
    "## Question 16\n",
    "* assume the below 2 matrices, the first is observations and the second is cluster centers\n",
    "* using cdist from scipy, create a matrix where the rows represent our 3 observations and the columns represent our 2 clusters and the cells values are the euclidean distances between a given observation and cluster\n",
    "* when would this be of use?  "
   ]
  },
  {
   "cell_type": "code",
   "execution_count": 18,
   "metadata": {},
   "outputs": [],
   "source": [
    "observations = np.array([\n",
    "    [1,2,3],\n",
    "    [4,3,1],\n",
    "    [2,3,4]\n",
    "])\n",
    "\n",
    "cluster_centers = np.array([\n",
    "    [2,3,1],\n",
    "    [2,1,3]\n",
    "])"
   ]
  }
 ],
 "metadata": {
  "kernelspec": {
   "display_name": "Python 3",
   "language": "python",
   "name": "python3"
  },
  "language_info": {
   "codemirror_mode": {
    "name": "ipython",
    "version": 3
   },
   "file_extension": ".py",
   "mimetype": "text/x-python",
   "name": "python",
   "nbconvert_exporter": "python",
   "pygments_lexer": "ipython3",
   "version": "3.7.4"
  }
 },
 "nbformat": 4,
 "nbformat_minor": 2
}
