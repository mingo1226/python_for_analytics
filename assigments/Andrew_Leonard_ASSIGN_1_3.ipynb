{
 "cells": [
  {
   "cell_type": "markdown",
   "metadata": {},
   "source": [
    "## Assignment 1 - Part 3"
   ]
  },
  {
   "cell_type": "markdown",
   "metadata": {},
   "source": [
    "### Question 10\n",
    "\n",
    "* write a function that takes a list, sorts it and finds the middle value.  \n",
    "* use error handling to check the list is odd in length\n",
    "* if it's even, return an error message\n",
    "* feel free to use a try/except or assert\n",
    "* show the output run on both lists"
   ]
  },
  {
   "cell_type": "code",
   "execution_count": null,
   "metadata": {},
   "outputs": [],
   "source": [
    "# a = [4,6,1]\n",
    "# sort = [1,4,6]\n",
    "# middle val = 4\n",
    "# if even number in size, return error"
   ]
  },
  {
   "cell_type": "code",
   "execution_count": 1,
   "metadata": {},
   "outputs": [],
   "source": [
    "a = [4,6,1,3,12,41,4,1,24,12,17]\n",
    "b = [4,6,1,3,12,41,4,1,24,12]"
   ]
  },
  {
   "cell_type": "code",
   "execution_count": 2,
   "metadata": {},
   "outputs": [],
   "source": [
    "def find_median(a):\n",
    "    #check for odd len list\n",
    "    assert len(a)%2 != 0, \"Error: Please pass an odd number list only.\"\n",
    "    \n",
    "    #sort the list\n",
    "    sort = sorted(a)\n",
    "    \n",
    "    #find the index for the middle value\n",
    "    mid_index = int((len(sort)+1)/2)\n",
    "    \n",
    "    #assign median value to variable\n",
    "    median = sort[mid_index]\n",
    "    \n",
    "    return sort, median"
   ]
  },
  {
   "cell_type": "code",
   "execution_count": 3,
   "metadata": {},
   "outputs": [
    {
     "name": "stdout",
     "output_type": "stream",
     "text": [
      "The sorted list is: [1, 1, 3, 4, 4, 6, 12, 12, 17, 24, 41]. The median is: 12\n"
     ]
    }
   ],
   "source": [
    "results = find_median(a)\n",
    "print('The sorted list is: {}. The median is: {}'.format(results[0], results[1]))"
   ]
  },
  {
   "cell_type": "code",
   "execution_count": 4,
   "metadata": {},
   "outputs": [
    {
     "ename": "AssertionError",
     "evalue": "Error: Please pass an odd number list only.",
     "output_type": "error",
     "traceback": [
      "\u001b[0;31m---------------------------------------------------------------------------\u001b[0m",
      "\u001b[0;31mAssertionError\u001b[0m                            Traceback (most recent call last)",
      "\u001b[0;32m<ipython-input-4-25a324962312>\u001b[0m in \u001b[0;36m<module>\u001b[0;34m\u001b[0m\n\u001b[0;32m----> 1\u001b[0;31m \u001b[0mresults_b\u001b[0m \u001b[0;34m=\u001b[0m \u001b[0mfind_median\u001b[0m\u001b[0;34m(\u001b[0m\u001b[0mb\u001b[0m\u001b[0;34m)\u001b[0m\u001b[0;34m\u001b[0m\u001b[0;34m\u001b[0m\u001b[0m\n\u001b[0m",
      "\u001b[0;32m<ipython-input-2-e60c8af50fa2>\u001b[0m in \u001b[0;36mfind_median\u001b[0;34m(a)\u001b[0m\n\u001b[1;32m      1\u001b[0m \u001b[0;32mdef\u001b[0m \u001b[0mfind_median\u001b[0m\u001b[0;34m(\u001b[0m\u001b[0ma\u001b[0m\u001b[0;34m)\u001b[0m\u001b[0;34m:\u001b[0m\u001b[0;34m\u001b[0m\u001b[0;34m\u001b[0m\u001b[0m\n\u001b[1;32m      2\u001b[0m     \u001b[0;31m#check for odd len list\u001b[0m\u001b[0;34m\u001b[0m\u001b[0;34m\u001b[0m\u001b[0;34m\u001b[0m\u001b[0m\n\u001b[0;32m----> 3\u001b[0;31m     \u001b[0;32massert\u001b[0m \u001b[0mlen\u001b[0m\u001b[0;34m(\u001b[0m\u001b[0ma\u001b[0m\u001b[0;34m)\u001b[0m\u001b[0;34m%\u001b[0m\u001b[0;36m2\u001b[0m \u001b[0;34m!=\u001b[0m \u001b[0;36m0\u001b[0m\u001b[0;34m,\u001b[0m \u001b[0;34m\"Error: Please pass an odd number list only.\"\u001b[0m\u001b[0;34m\u001b[0m\u001b[0;34m\u001b[0m\u001b[0m\n\u001b[0m\u001b[1;32m      4\u001b[0m \u001b[0;34m\u001b[0m\u001b[0m\n\u001b[1;32m      5\u001b[0m     \u001b[0;31m#sort the list\u001b[0m\u001b[0;34m\u001b[0m\u001b[0;34m\u001b[0m\u001b[0;34m\u001b[0m\u001b[0m\n",
      "\u001b[0;31mAssertionError\u001b[0m: Error: Please pass an odd number list only."
     ]
    }
   ],
   "source": [
    "results_b = find_median(b)"
   ]
  },
  {
   "cell_type": "markdown",
   "metadata": {},
   "source": [
    "### Question 11\n",
    "* Make a generator that parses the list of transaction data\n",
    "* Put the contents in a dictionary where the key is the user id and the value is the list of items the user has purchased\n",
    "* note the transactions are pipe ( | ) delimtied, meaning you'll have to use some string manipulations to get the values from each transaction\n",
    "* make sure to skip the header somehow"
   ]
  },
  {
   "cell_type": "code",
   "execution_count": 5,
   "metadata": {},
   "outputs": [],
   "source": [
    "# transactions = [A, item_a], [A, item_b]\n",
    "# dict = {A:[item_a, item_b]}"
   ]
  },
  {
   "cell_type": "code",
   "execution_count": 6,
   "metadata": {},
   "outputs": [],
   "source": [
    "transactions = [\n",
    "    [\"user_id|item_id\"],\n",
    "    [\"A|item_a\"],\n",
    "    [\"B|item_a\"],\n",
    "    [\"C|item_a\"],\n",
    "    [\"C|item_b\"],\n",
    "    [\"C|item_c\"],\n",
    "    [\"B|item_c\"],\n",
    "    [\"D|item_b\"],\n",
    "    [\"D|item_b\"]\n",
    "]"
   ]
  },
  {
   "cell_type": "code",
   "execution_count": 7,
   "metadata": {},
   "outputs": [],
   "source": [
    "def trans_data(data):\n",
    "    parsedlist = (k[0].split('|') for k in data)\n",
    "    dictionary = {}\n",
    "    \n",
    "    #skip first line\n",
    "    next(parsedlist)\n",
    "    \n",
    "    for i in range(0,(len(data)-1)):\n",
    "        temp_value = next(parsedlist)\n",
    "        \n",
    "        if temp_value[0] not in dictionary:\n",
    "            dictionary.update({temp_value[0]:[temp_value[1]]})\n",
    "        else:\n",
    "            dictionary[temp_value[0]].append(temp_value[1])\n",
    "\n",
    "    return dictionary"
   ]
  },
  {
   "cell_type": "code",
   "execution_count": 8,
   "metadata": {},
   "outputs": [],
   "source": [
    "x = trans_data(transactions)"
   ]
  },
  {
   "cell_type": "code",
   "execution_count": 9,
   "metadata": {},
   "outputs": [
    {
     "name": "stdout",
     "output_type": "stream",
     "text": [
      "{'A': ['item_a'], 'B': ['item_a', 'item_c'], 'C': ['item_a', 'item_b', 'item_c'], 'D': ['item_b', 'item_b']}\n"
     ]
    }
   ],
   "source": [
    "print(x)"
   ]
  },
  {
   "cell_type": "markdown",
   "metadata": {},
   "source": [
    "### Question 12\n",
    "* Make a function that takes 2 lists of equal length and returns a True when the values in a given index are the same in both lists and a false if they are not.\n",
    "* Use error handling of some kind if the lists are not of equal length."
   ]
  },
  {
   "cell_type": "code",
   "execution_count": 10,
   "metadata": {},
   "outputs": [],
   "source": [
    "# should return [True, True, True, False, False]\n",
    "a = [1,2,3,4,5]\n",
    "b = [1,2,3,5,6]"
   ]
  },
  {
   "cell_type": "code",
   "execution_count": 11,
   "metadata": {},
   "outputs": [],
   "source": [
    "def equal_values(a,b):\n",
    "    newlist = list(zip(a,b))\n",
    "    output = list(map(lambda x: x[0]==x[1], newlist))\n",
    "    return output"
   ]
  },
  {
   "cell_type": "code",
   "execution_count": 12,
   "metadata": {},
   "outputs": [
    {
     "name": "stdout",
     "output_type": "stream",
     "text": [
      "[True, True, True, False, False]\n"
     ]
    }
   ],
   "source": [
    "equal = equal_values(a,b)\n",
    "print(equal)"
   ]
  },
  {
   "cell_type": "markdown",
   "metadata": {},
   "source": [
    "### Question 13\n",
    "Show three ways of attaching a list to itself (one of then should use the function append) . \n"
   ]
  },
  {
   "cell_type": "code",
   "execution_count": 71,
   "metadata": {},
   "outputs": [],
   "source": [
    "a = [1,2,3]"
   ]
  },
  {
   "cell_type": "markdown",
   "metadata": {},
   "source": [
    "I found four ways to attach lists to itself, with 2 ways that put a nested list inside the original list and 2 ways that extend the list to 6 elements. Hope this is what you're looking for!"
   ]
  },
  {
   "cell_type": "code",
   "execution_count": 72,
   "metadata": {},
   "outputs": [
    {
     "name": "stdout",
     "output_type": "stream",
     "text": [
      "This is the original list, updated with list a appended as 4th element: [1, 2, 3, [...]]\n"
     ]
    }
   ],
   "source": [
    "#append will update the orignal list a by adding a to the end of original list. This updates original list\n",
    "a.append(a)\n",
    "print('This is the original list, updated with list a appended as 4th element: {}'.format(a))"
   ]
  },
  {
   "cell_type": "code",
   "execution_count": 73,
   "metadata": {},
   "outputs": [
    {
     "name": "stdout",
     "output_type": "stream",
     "text": [
      "This is the also the original list, updated with list a appended as the last element: [1, 2, 3, [...]]\n"
     ]
    }
   ],
   "source": [
    "#insert will do same as append, but we can control where we insert list a. Here, I attached the list to the end\n",
    "# of the orginal list for same output as append.\n",
    "a = [1,2,3]\n",
    "a.insert(a[-1], a)\n",
    "print('This is the also the original list, updated with list a appended as the last element: {}'.format(a))"
   ]
  },
  {
   "cell_type": "code",
   "execution_count": 74,
   "metadata": {},
   "outputs": [
    {
     "name": "stdout",
     "output_type": "stream",
     "text": [
      "This is a new list: [1, 2, 3, 1, 2, 3]\n",
      "This is another new list: [1, 2, 3, 1, 2, 3]\n"
     ]
    }
   ],
   "source": [
    "#to extend the list, we can use + opperator. This does not impact the original list. I printed a+a twice to illustrate\n",
    "a = [1,2,3]\n",
    "print('This is a new list: {}'.format(a+a))\n",
    "print('This is another new list: {}'.format(a+a))"
   ]
  },
  {
   "cell_type": "code",
   "execution_count": 75,
   "metadata": {},
   "outputs": [
    {
     "name": "stdout",
     "output_type": "stream",
     "text": [
      "This is the original list:[1, 2, 3]\n",
      "After extending the list once:[1, 2, 3, 1, 2, 3]\n",
      "After extending the list twice:[1, 2, 3, 1, 2, 3, 1, 2, 3, 1, 2, 3]\n"
     ]
    }
   ],
   "source": [
    "#extend will add items to the original list AND will update the original list. I ran function twice to illistraute\n",
    "print('This is the original list:{}'.format(a))\n",
    "a = [1,2,3]\n",
    "a.extend(a)\n",
    "print('After extending the list once:{}'.format(a))\n",
    "a.extend(a)\n",
    "print('After extending the list twice:{}'.format(a))"
   ]
  },
  {
   "cell_type": "markdown",
   "metadata": {},
   "source": [
    "### Extra questions - To think about .. And answer..\n",
    "\n",
    "* What two datatypes can be declared with { }?\n",
    "* What two datatypes can be declared with ( )?\n",
    "* Provide examples of each of the 4 above.\n",
    "\n",
    "* Describe what a generator is and how it differs from a list or tuple."
   ]
  },
  {
   "cell_type": "markdown",
   "metadata": {},
   "source": [
    "With { }, we can declare dictionaries and sets. \n",
    "\n",
    "With ( ), we can declare tuples and generators. In thinking about this question, I discover that () are not required to declaring tuples, which I found interesting. "
   ]
  },
  {
   "cell_type": "code",
   "execution_count": 84,
   "metadata": {},
   "outputs": [
    {
     "name": "stdout",
     "output_type": "stream",
     "text": [
      "<class 'set'>\n",
      "<class 'dict'>\n"
     ]
    }
   ],
   "source": [
    "#here is a set\n",
    "newtype = {1,2}\n",
    "print(type(newtype))\n",
    "\n",
    "#here is a dictionary\n",
    "very_interesting_dictionary = {'a':'I love Rafis class'}\n",
    "print(type(very_interesting_dictionary))"
   ]
  },
  {
   "cell_type": "code",
   "execution_count": 85,
   "metadata": {},
   "outputs": [
    {
     "name": "stdout",
     "output_type": "stream",
     "text": [
      "<class 'tuple'>\n",
      "<class 'generator'>\n",
      "<class 'tuple'>\n"
     ]
    }
   ],
   "source": [
    "#here is a tuple\n",
    "mytuple = (1,2,'hello', 45, '9.2')\n",
    "print(type(mytuple))\n",
    "\n",
    "generate_this = [50, 20, 'a string']\n",
    "my_generator = (j for j in generate_this)\n",
    "print(type(my_generator))\n",
    "\n",
    "#here we can declare a tuple without ()\n",
    "t = 12345, 54321, 'hello!'\n",
    "print(type(t))"
   ]
  },
  {
   "cell_type": "markdown",
   "metadata": {},
   "source": [
    "A generator iterates over a list or tuple. The generator, however, only remembers the next index which it is to iterate over (not the contents of the list or tupel itself). This is called a lazy iterator. Because the function does not need to store the contents of the list or tuple, it is very memory efficient. The 'next' function will call the generator function to iterate over the next item in the list or tuple. "
   ]
  },
  {
   "cell_type": "code",
   "execution_count": 93,
   "metadata": {},
   "outputs": [
    {
     "name": "stdout",
     "output_type": "stream",
     "text": [
      "let's generate over a tuple\n",
      "instead of a list\n",
      "next is a number\n",
      "10\n"
     ]
    }
   ],
   "source": [
    "generate_this = (\"let's generate over a tuple\", \"instead of a list\", \"next is a number\", 10)\n",
    "my_generator = (j for j in generate_this)\n",
    "print(next(my_generator))\n",
    "print(next(my_generator))\n",
    "print(next(my_generator))\n",
    "print(next(my_generator))"
   ]
  }
 ],
 "metadata": {
  "kernelspec": {
   "display_name": "Python 3",
   "language": "python",
   "name": "python3"
  },
  "language_info": {
   "codemirror_mode": {
    "name": "ipython",
    "version": 3
   },
   "file_extension": ".py",
   "mimetype": "text/x-python",
   "name": "python",
   "nbconvert_exporter": "python",
   "pygments_lexer": "ipython3",
   "version": "3.7.4"
  }
 },
 "nbformat": 4,
 "nbformat_minor": 2
}
