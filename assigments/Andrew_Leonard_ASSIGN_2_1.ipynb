{
 "cells": [
  {
   "cell_type": "markdown",
   "metadata": {},
   "source": [
    "## Assignment 2 - Part 1\n",
    "* Topics: pandas and numpy"
   ]
  },
  {
   "cell_type": "markdown",
   "metadata": {},
   "source": [
    "## Question 1\n",
    "* sklearn has the iris dataset built in\n",
    "* this is what we will be working with\n",
    "* put the iris data into a dataframe where we have 5 columns (the 4 features and the target)\n",
    "* but the target shouldn't be numerical, it should be the actual label (so put setosa not 0 in the target column) "
   ]
  },
  {
   "cell_type": "code",
   "execution_count": 173,
   "metadata": {},
   "outputs": [],
   "source": [
    "from sklearn.datasets import load_iris\n",
    "import pandas as pd\n",
    "import numpy as np\n",
    "\n",
    "iris = load_iris()"
   ]
  },
  {
   "cell_type": "code",
   "execution_count": 174,
   "metadata": {},
   "outputs": [],
   "source": [
    "feature_names = iris.feature_names\n",
    "features = pd.DataFrame(iris.data, columns = feature_names)\n",
    "#target = pd.DataFrame(iris.target, columns = ['target'])\n",
    "target = iris.target\n",
    "target_names = iris.target_names"
   ]
  },
  {
   "cell_type": "code",
   "execution_count": 175,
   "metadata": {},
   "outputs": [],
   "source": [
    "new_list = []\n",
    "for i in target:\n",
    "    if i == 0:\n",
    "        new_list.append(target_names[0])\n",
    "    elif i == 1:\n",
    "        new_list.append(target_names[1])\n",
    "    elif i == 2:\n",
    "        new_list.append(target_names[2])"
   ]
  },
  {
   "cell_type": "code",
   "execution_count": 176,
   "metadata": {},
   "outputs": [],
   "source": [
    "target = pd.DataFrame(new_list, columns = ['target'])"
   ]
  },
  {
   "cell_type": "code",
   "execution_count": 177,
   "metadata": {},
   "outputs": [
    {
     "data": {
      "text/html": [
       "<div>\n",
       "<style scoped>\n",
       "    .dataframe tbody tr th:only-of-type {\n",
       "        vertical-align: middle;\n",
       "    }\n",
       "\n",
       "    .dataframe tbody tr th {\n",
       "        vertical-align: top;\n",
       "    }\n",
       "\n",
       "    .dataframe thead th {\n",
       "        text-align: right;\n",
       "    }\n",
       "</style>\n",
       "<table border=\"1\" class=\"dataframe\">\n",
       "  <thead>\n",
       "    <tr style=\"text-align: right;\">\n",
       "      <th></th>\n",
       "      <th>sepal length (cm)</th>\n",
       "      <th>sepal width (cm)</th>\n",
       "      <th>petal length (cm)</th>\n",
       "      <th>petal width (cm)</th>\n",
       "      <th>target</th>\n",
       "    </tr>\n",
       "  </thead>\n",
       "  <tbody>\n",
       "    <tr>\n",
       "      <td>0</td>\n",
       "      <td>5.1</td>\n",
       "      <td>3.5</td>\n",
       "      <td>1.4</td>\n",
       "      <td>0.2</td>\n",
       "      <td>setosa</td>\n",
       "    </tr>\n",
       "    <tr>\n",
       "      <td>1</td>\n",
       "      <td>4.9</td>\n",
       "      <td>3.0</td>\n",
       "      <td>1.4</td>\n",
       "      <td>0.2</td>\n",
       "      <td>setosa</td>\n",
       "    </tr>\n",
       "    <tr>\n",
       "      <td>2</td>\n",
       "      <td>4.7</td>\n",
       "      <td>3.2</td>\n",
       "      <td>1.3</td>\n",
       "      <td>0.2</td>\n",
       "      <td>setosa</td>\n",
       "    </tr>\n",
       "    <tr>\n",
       "      <td>3</td>\n",
       "      <td>4.6</td>\n",
       "      <td>3.1</td>\n",
       "      <td>1.5</td>\n",
       "      <td>0.2</td>\n",
       "      <td>setosa</td>\n",
       "    </tr>\n",
       "    <tr>\n",
       "      <td>4</td>\n",
       "      <td>5.0</td>\n",
       "      <td>3.6</td>\n",
       "      <td>1.4</td>\n",
       "      <td>0.2</td>\n",
       "      <td>setosa</td>\n",
       "    </tr>\n",
       "  </tbody>\n",
       "</table>\n",
       "</div>"
      ],
      "text/plain": [
       "   sepal length (cm)  sepal width (cm)  petal length (cm)  petal width (cm)  \\\n",
       "0                5.1               3.5                1.4               0.2   \n",
       "1                4.9               3.0                1.4               0.2   \n",
       "2                4.7               3.2                1.3               0.2   \n",
       "3                4.6               3.1                1.5               0.2   \n",
       "4                5.0               3.6                1.4               0.2   \n",
       "\n",
       "   target  \n",
       "0  setosa  \n",
       "1  setosa  \n",
       "2  setosa  \n",
       "3  setosa  \n",
       "4  setosa  "
      ]
     },
     "execution_count": 177,
     "metadata": {},
     "output_type": "execute_result"
    }
   ],
   "source": [
    "iris_dataframe = pd.concat([features, target],  axis = 1)\n",
    "iris_dataframe.head(5)"
   ]
  },
  {
   "cell_type": "markdown",
   "metadata": {},
   "source": [
    "## Question 2\n",
    "* using the data array from the iris variable (should be a numpy array of size 150x4), for each row and column, find the sum, min and max\n",
    "* print out the results, but for the rows, show only the first 5 elements of the array and display the length (otherwise it will be large arrays since each row has a value)"
   ]
  },
  {
   "cell_type": "code",
   "execution_count": 208,
   "metadata": {},
   "outputs": [
    {
     "data": {
      "text/plain": [
       "numpy.ndarray"
      ]
     },
     "execution_count": 208,
     "metadata": {},
     "output_type": "execute_result"
    }
   ],
   "source": [
    "iris.data.shape"
   ]
  },
  {
   "cell_type": "code",
   "execution_count": 184,
   "metadata": {},
   "outputs": [
    {
     "name": "stdout",
     "output_type": "stream",
     "text": [
      "[10.2  9.5  9.4  9.4 10.2] [0.2 0.2 0.2 0.2 0.2] [5.1 4.9 4.7 4.6 5. ] 150\n"
     ]
    }
   ],
   "source": [
    "#rows\n",
    "print(iris.data.sum(axis = 1)[0:5], iris.data.min(axis = 1)[0:5], iris.data.max(axis = 1)[0:5], iris.data.shape[0])"
   ]
  },
  {
   "cell_type": "code",
   "execution_count": 185,
   "metadata": {},
   "outputs": [
    {
     "name": "stdout",
     "output_type": "stream",
     "text": [
      "[876.5 458.6 563.7 179.9] [4.3 2.  1.  0.1] [7.9 4.4 6.9 2.5] 4\n"
     ]
    }
   ],
   "source": [
    "#columns\n",
    "print(iris.data.sum(axis = 0), iris.data.min(axis = 0), iris.data.max(axis = 0), iris.data.shape[1])"
   ]
  },
  {
   "cell_type": "markdown",
   "metadata": {},
   "source": [
    "## Question 3\n",
    "* write a function to return the multiplication of two matrices\n",
    "* use some sort of error handling to make sure the dimensions are compatible\n",
    "* use the function to multiply the iris data (don't use the label column) by it's transpose\n",
    "* what are the dimensions of the result\n",
    "* put the sum of each row of the resulting matrix into a vector, printing out the length and first 5 elements.\n",
    "* put the sum of each column of the resulting matrix in a vector and print it out."
   ]
  },
  {
   "cell_type": "code",
   "execution_count": 8,
   "metadata": {},
   "outputs": [],
   "source": [
    "def matrix_multiply(a, b):\n",
    "    assert a.shape[1] == b.shape[0], 'dimensions of matrix do not allow for multiplication'\n",
    "    \n",
    "    result = a@b    \n",
    "    return result"
   ]
  },
  {
   "cell_type": "code",
   "execution_count": 9,
   "metadata": {},
   "outputs": [
    {
     "data": {
      "text/plain": [
       "((150, 4), (4, 150))"
      ]
     },
     "execution_count": 9,
     "metadata": {},
     "output_type": "execute_result"
    }
   ],
   "source": [
    "iris.data.shape, iris.data.T.shape"
   ]
  },
  {
   "cell_type": "code",
   "execution_count": 10,
   "metadata": {},
   "outputs": [
    {
     "data": {
      "text/plain": [
       "(150, 150)"
      ]
     },
     "execution_count": 10,
     "metadata": {},
     "output_type": "execute_result"
    }
   ],
   "source": [
    "newmatrix = matrix_multiply(iris.data, iris.data.T)\n",
    "newmatrix.shape"
   ]
  },
  {
   "cell_type": "code",
   "execution_count": 11,
   "metadata": {},
   "outputs": [
    {
     "name": "stdout",
     "output_type": "stream",
     "text": [
      "The length of the vector is: 150. The first 5 elements are: [6900.41 6495.81 6355.86 6335.09 6858.62]\n"
     ]
    }
   ],
   "source": [
    "#double check\n",
    "row_vector = newmatrix.sum(axis = 1)\n",
    "print('The length of the vector is: {}. The first 5 elements are: {}'.format(len(row_vector), row_vector[0:5]))"
   ]
  },
  {
   "cell_type": "code",
   "execution_count": 12,
   "metadata": {},
   "outputs": [
    {
     "name": "stdout",
     "output_type": "stream",
     "text": [
      "[ 6900.41  6495.81  6355.86  6335.09  6858.62  7551.89  6434.29  6823.27\n",
      "  6011.7   6580.05  7311.45  6704.34  6390.17  5782.81  7630.52  7931.4\n",
      "  7326.41  6918.4   7750.99  7112.35  7286.61  7084.48  6282.54  7031.77\n",
      "  6873.45  6696.2   6915.62  7044.43  6942.2   6524.97  6566.76  7209.85\n",
      "  7301.6   7572.03  6598.04  6562.44  7194.64  6752.98  6001.19  6910.92\n",
      "  6774.38  5785.81  6092.91  6997.46  7355.82  6426.15  7150.73  6324.58\n",
      "  7223.8   6721.04 10504.27  9883.62 10501.49  8364.2   9844.2   9050.65\n",
      "  9972.56  7435.6   9941.73  8246.31  7452.55  9184.54  8702.62  9577.84\n",
      "  8501.53 10026.35  9090.7   8812.99  9249.72  8451.22  9668.45  9119.4\n",
      "  9700.43  9496.    9597.32  9892.84 10201.9  10372.68  9395.44  8341.26\n",
      "  8261.34  8186.98  8736.23  9659.93  8915.4   9642.73 10213.45  9290.88\n",
      "  8829.24  8455.92  8709.27  9567.33  8746.74  7477.39  8748.03  8955.27\n",
      "  8927.4   9422.02  7505.64  8825.17 10867.28  9538.6  11302.57 10332.43\n",
      " 10738.29 12135.41  8283.83 11603.52 10612.33 11850.08 10399.44 10177.24\n",
      " 10814.14  9320.85  9674.41 10478.5  10497.22 12664.3  12244.71  9356.27\n",
      " 11142.23  9314.41 12169.72  9846.12 10976.81 11484.34  9747.96  9808.4\n",
      " 10428.19 11243.9  11550.56 12634.51 10446.18  9950.75  9947.59 11977.19\n",
      " 10669.67 10455.43  9664.38 10891.28 10882.69 10758.15  9538.6  11167.32\n",
      " 11048.77 10593.36  9828.76 10364.09 10451.29  9745.84]\n"
     ]
    }
   ],
   "source": [
    "#col_vector = list(map(lambda x: x.sum(axis = 0), newmatrix)) \n",
    "col_vector = newmatrix.sum(axis = 0)\n",
    "print(col_vector)"
   ]
  },
  {
   "cell_type": "markdown",
   "metadata": {},
   "source": [
    "## Question 4\n",
    "* create a subset of the iris dataframe that doesn't have the label column\n",
    "* for each row, find the index of the min and max feature value\n",
    "    * if we have a row with values [10,2,3,4] we want to return 1 for min and 0 for max, as these are the indicies that align to the min and max values\n",
    "* the result should be two arrays of length 150 (one for each row) with the indices of the min and max value"
   ]
  },
  {
   "cell_type": "code",
   "execution_count": 227,
   "metadata": {},
   "outputs": [
    {
     "name": "stdout",
     "output_type": "stream",
     "text": [
      "Here are the first 5 index values for the minimum value of each row the Iris dataset: [3 3 3 3 3]\n",
      "And here are the first 5 index values for the maximum value of each row: [0 0 0 0 0]\n",
      "The length of my arrays are: 150 and 150\n"
     ]
    }
   ],
   "source": [
    "iris_subset = iris_dataframe.iloc[:,0:4]\n",
    "array = iris_subset.values\n",
    "min_max = [(np.argmin(i, axis = 0), np.argmax(i,axis = 0)) for i in array]\n",
    "\n",
    "min_rows_index = np.argmin(array, axis = 1)\n",
    "max_rows_index = np.argmax(array, axis = 1)\n",
    "\n",
    "print('Here are the first 5 index values for the minimum value of each row the Iris dataset: {}'.format(min_rows_index[0:5]))\n",
    "print('And here are the first 5 index values for the maximum value of each row: {}'.format(max_rows_index[0:5]))\n",
    "print('The length of my arrays are: {} and {}'.format(len(min_rows_index), len(max_rows_index)))"
   ]
  },
  {
   "cell_type": "markdown",
   "metadata": {},
   "source": [
    "## Question 5\n",
    "* Use the above two arrays to make a dataframe with 2 columns, the first being the feature of minimum value and the second the feature name of the maximum value\n",
    "* note, don't have the cell values be the index value of the min/max value, have it be the feature name\n",
    "    * a row should be [min_val = sepal width (cm), max_val = petal length (cm)]\n",
    "* show the distributions for max and min features (how many times is each feature the max and min value for a row)"
   ]
  },
  {
   "cell_type": "code",
   "execution_count": 222,
   "metadata": {},
   "outputs": [],
   "source": [
    "#to reference the name of each feature\n",
    "feature_names = iris.feature_names\n",
    "\n",
    "#zip min and max arrays into one list\n",
    "min_max = list(zip(min_rows_index,max_rows_index))\n",
    "\n",
    "#create empty dataframe of NaN to replace values in for loop\n",
    "newDF = pd.DataFrame(np.nan, index=range(150),columns=['min_feature','max_feature'])"
   ]
  },
  {
   "cell_type": "code",
   "execution_count": 223,
   "metadata": {},
   "outputs": [],
   "source": [
    "idx = -1\n",
    "\n",
    "#reference row of min_max array\n",
    "for k in min_max:\n",
    "    \n",
    "    #idx holds which row we are working on\n",
    "    idx += 1\n",
    "    \n",
    "    #iterate through columns 0 and 1\n",
    "    for n in range(0,2):\n",
    "        \n",
    "        #holds index that references feature for current min_max value\n",
    "        #idx is our current row and n is our current column\n",
    "        i = min_max[idx][n]\n",
    "        \n",
    "        #pull feature name via index value, put into a temporary variable\n",
    "        temp = feature_names[i]\n",
    "        \n",
    "        #replace NaN value with name of feature for current row/column\n",
    "        newDF.iloc[idx,n] = temp"
   ]
  },
  {
   "cell_type": "code",
   "execution_count": 224,
   "metadata": {},
   "outputs": [
    {
     "data": {
      "text/html": [
       "<div>\n",
       "<style scoped>\n",
       "    .dataframe tbody tr th:only-of-type {\n",
       "        vertical-align: middle;\n",
       "    }\n",
       "\n",
       "    .dataframe tbody tr th {\n",
       "        vertical-align: top;\n",
       "    }\n",
       "\n",
       "    .dataframe thead th {\n",
       "        text-align: right;\n",
       "    }\n",
       "</style>\n",
       "<table border=\"1\" class=\"dataframe\">\n",
       "  <thead>\n",
       "    <tr style=\"text-align: right;\">\n",
       "      <th></th>\n",
       "      <th>min_feature</th>\n",
       "      <th>max_feature</th>\n",
       "    </tr>\n",
       "  </thead>\n",
       "  <tbody>\n",
       "    <tr>\n",
       "      <td>0</td>\n",
       "      <td>petal width (cm)</td>\n",
       "      <td>sepal length (cm)</td>\n",
       "    </tr>\n",
       "    <tr>\n",
       "      <td>1</td>\n",
       "      <td>petal width (cm)</td>\n",
       "      <td>sepal length (cm)</td>\n",
       "    </tr>\n",
       "    <tr>\n",
       "      <td>2</td>\n",
       "      <td>petal width (cm)</td>\n",
       "      <td>sepal length (cm)</td>\n",
       "    </tr>\n",
       "    <tr>\n",
       "      <td>3</td>\n",
       "      <td>petal width (cm)</td>\n",
       "      <td>sepal length (cm)</td>\n",
       "    </tr>\n",
       "    <tr>\n",
       "      <td>4</td>\n",
       "      <td>petal width (cm)</td>\n",
       "      <td>sepal length (cm)</td>\n",
       "    </tr>\n",
       "    <tr>\n",
       "      <td>...</td>\n",
       "      <td>...</td>\n",
       "      <td>...</td>\n",
       "    </tr>\n",
       "    <tr>\n",
       "      <td>145</td>\n",
       "      <td>petal width (cm)</td>\n",
       "      <td>sepal length (cm)</td>\n",
       "    </tr>\n",
       "    <tr>\n",
       "      <td>146</td>\n",
       "      <td>petal width (cm)</td>\n",
       "      <td>sepal length (cm)</td>\n",
       "    </tr>\n",
       "    <tr>\n",
       "      <td>147</td>\n",
       "      <td>petal width (cm)</td>\n",
       "      <td>sepal length (cm)</td>\n",
       "    </tr>\n",
       "    <tr>\n",
       "      <td>148</td>\n",
       "      <td>petal width (cm)</td>\n",
       "      <td>sepal length (cm)</td>\n",
       "    </tr>\n",
       "    <tr>\n",
       "      <td>149</td>\n",
       "      <td>petal width (cm)</td>\n",
       "      <td>sepal length (cm)</td>\n",
       "    </tr>\n",
       "  </tbody>\n",
       "</table>\n",
       "<p>150 rows × 2 columns</p>\n",
       "</div>"
      ],
      "text/plain": [
       "          min_feature        max_feature\n",
       "0    petal width (cm)  sepal length (cm)\n",
       "1    petal width (cm)  sepal length (cm)\n",
       "2    petal width (cm)  sepal length (cm)\n",
       "3    petal width (cm)  sepal length (cm)\n",
       "4    petal width (cm)  sepal length (cm)\n",
       "..                ...                ...\n",
       "145  petal width (cm)  sepal length (cm)\n",
       "146  petal width (cm)  sepal length (cm)\n",
       "147  petal width (cm)  sepal length (cm)\n",
       "148  petal width (cm)  sepal length (cm)\n",
       "149  petal width (cm)  sepal length (cm)\n",
       "\n",
       "[150 rows x 2 columns]"
      ]
     },
     "execution_count": 224,
     "metadata": {},
     "output_type": "execute_result"
    }
   ],
   "source": [
    "newDF"
   ]
  },
  {
   "cell_type": "code",
   "execution_count": 219,
   "metadata": {},
   "outputs": [
    {
     "name": "stdout",
     "output_type": "stream",
     "text": [
      "The feature for the minimum value for all rows is ['petal width (cm)'] and the feature for the maximum value for all rows is ['petal width (cm)']\n",
      "We know this becuase the count of each is [150] and [150]\n"
     ]
    }
   ],
   "source": [
    "min_feature_count = np.unique(newDF.min_feature, return_counts = True)\n",
    "max_feature_count = np.unique(newDF.max_feature, return_counts = True)\n",
    "\n",
    "print('The feature for the minimum value for all rows is {} and the feature for the maximum value for all rows is {}'.format(min_feature_count[0], max_feature_count[0]))\n",
    "print('We know this becuase the count of each is {} and {}'.format(min_feature_count[1], max_feature_count[1]))"
   ]
  },
  {
   "cell_type": "markdown",
   "metadata": {},
   "source": [
    "## Extra questions  - To think about.\n",
    "* Describe a situation the functionality from question 4 and 5 could be of use?"
   ]
  },
  {
   "cell_type": "code",
   "execution_count": null,
   "metadata": {},
   "outputs": [],
   "source": []
  }
 ],
 "metadata": {
  "kernelspec": {
   "display_name": "Python 3",
   "language": "python",
   "name": "python3"
  },
  "language_info": {
   "codemirror_mode": {
    "name": "ipython",
    "version": 3
   },
   "file_extension": ".py",
   "mimetype": "text/x-python",
   "name": "python",
   "nbconvert_exporter": "python",
   "pygments_lexer": "ipython3",
   "version": "3.7.4"
  }
 },
 "nbformat": 4,
 "nbformat_minor": 2
}
