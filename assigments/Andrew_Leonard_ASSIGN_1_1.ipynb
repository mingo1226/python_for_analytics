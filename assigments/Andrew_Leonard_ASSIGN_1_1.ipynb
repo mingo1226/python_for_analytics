{
 "cells": [
  {
   "cell_type": "markdown",
   "metadata": {},
   "source": [
    "## Assignment 1 - 1\n",
    "* Topics: containers, udfs, comprehensions, error handling"
   ]
  },
  {
   "cell_type": "markdown",
   "metadata": {},
   "source": [
    "## Instructions\n",
    "* Rename this notebook with your NAME_LASTNAME_ASSIGN_1\n",
    "* Finish the test on this notebook\n",
    "* Download your notebook as a PDF\n",
    "* Turn in both the notebook and PDF (in my case I would get two files RAFAEL_VESCOVI_ASSIGN_1.pdf and RAFAEL_VESCOVI_ASSIGN_1.ipynb)\n",
    "* Show the output of your code working on the sample data, like below.  \n",
    "* If techniques are specified, use them.  Otherwise, feel free to solve the problem how you want.  \n",
    "* Try to keep your code clean, concise and avoid loops if necessary.  \n",
    "* You have to show your work (code).\n",
    "* You will be graded:\n",
    "    * The functionality of your code (Does it do what it was meant to)\n",
    "    * Showing the output on the sample data provided\n",
    "    * How concise it is (did you use a for loop when you could have used a comprehension for instance).  Simply put, try and write clean, concise and readable code (don't use 10 lines for what could have been done in 4).\n",
    "    * Even if the answer isn't perfect, make an honest attempt as partial credit will be given.\n",
    "* you should not have to explicitly use  a for loop except for question 12, meaning it is possible to complete the entire assignment without using the keyword \"for\".\n",
    "* the only third party functions/modules you are allowed to use are permutations and combinations from itertools.  yes, there is a built in median function in numpy, but the idea is to program yourself and solve the problems on your own using basic python techniques"
   ]
  },
  {
   "cell_type": "markdown",
   "metadata": {},
   "source": [
    "### Question 1\n",
    "* Create a function that takes 2 lists as params, of equal length and does the following:\n",
    "    * returns a dictionary where the keys are the first list and the values are the second list\n",
    "    * make use of zip and comprehension to make the dictionary\n",
    "    * if the lists are not of equal length, use error handling to indicate the mismatch"
   ]
  },
  {
   "cell_type": "code",
   "execution_count": null,
   "metadata": {},
   "outputs": [],
   "source": [
    "# a = [5,7]\n",
    "# b = [\"x\", \"z\"]\n",
    "# return {5:\"x\", 7:\"z\"}"
   ]
  },
  {
   "cell_type": "code",
   "execution_count": null,
   "metadata": {},
   "outputs": [],
   "source": [
    "a = [1,2,3,4,5,6,7,8]\n",
    "b = [\"a\",\"b\",\"c\",\"d\",\"e\",\"f\",\"g\",\"h\"]"
   ]
  },
  {
   "cell_type": "code",
   "execution_count": null,
   "metadata": {},
   "outputs": [],
   "source": [
    "def dic(a,b):\n",
    "    if len(a) == len(b):\n",
    "        return {(x[0],x[1]) for x in zip(a,b)}\n",
    "    else:\n",
    "        print('list length must be the same!')"
   ]
  },
  {
   "cell_type": "markdown",
   "metadata": {},
   "source": [
    "### Question 2\n",
    "* Create a UDF that takes a list and returns the permutations and combinations (length 2) as nested lists, along with the number of permutations and combinations.  \n",
    "* The function should return 4 things"
   ]
  },
  {
   "cell_type": "code",
   "execution_count": 2,
   "metadata": {},
   "outputs": [],
   "source": [
    "a = [1,2,3,4,5]"
   ]
  },
  {
   "cell_type": "markdown",
   "metadata": {},
   "source": [
    "### Question 3\n",
    "* Map a function to the below list that\n",
    "    * returns the remainder of each number divided by 3 (52/3 = 17 with a remainder of 1, we want the 1 to be returned)\n",
    "    * use lambdas for the mapping\n",
    "    * hint, look at modulus (%) in python"
   ]
  },
  {
   "cell_type": "code",
   "execution_count": 1,
   "metadata": {},
   "outputs": [],
   "source": [
    "lst = list(range(100))"
   ]
  },
  {
   "cell_type": "code",
   "execution_count": null,
   "metadata": {},
   "outputs": [],
   "source": [
    "list(map(lambda x:x%3, lst))"
   ]
  },
  {
   "cell_type": "markdown",
   "metadata": {},
   "source": [
    "### Question 4\n",
    "* Using comprehension, replace the keys in the list with their value in the dictionary\n",
    "* example below"
   ]
  },
  {
   "cell_type": "code",
   "execution_count": null,
   "metadata": {},
   "outputs": [],
   "source": [
    "# lst = [1,2]\n",
    "# dict = {1:\"a\", 2:\"b\"}\n",
    "# new_lst = [\"a\",\"b\"]"
   ]
  },
  {
   "cell_type": "code",
   "execution_count": 4,
   "metadata": {},
   "outputs": [],
   "source": [
    "a = list(range(5))\n",
    "dct = {\n",
    "    0:\"a\",\n",
    "    1:\"b\",\n",
    "    2:\"c\",\n",
    "    3:\"d\",\n",
    "    4:\"e\"\n",
    "}"
   ]
  },
  {
   "cell_type": "code",
   "execution_count": null,
   "metadata": {},
   "outputs": [],
   "source": [
    "new_list = [i for i in dct.values()]\n",
    "print(new_list)"
   ]
  },
  {
   "cell_type": "markdown",
   "metadata": {},
   "source": [
    "### Question 5\n",
    "* Make a UDF that takes a variable amount of numbers and returns a list with the numbers having been squared\n",
    "* use comprehension to perform the squaring of each item\n",
    "* hint, this should be doable in one line using args"
   ]
  },
  {
   "cell_type": "code",
   "execution_count": 1,
   "metadata": {},
   "outputs": [],
   "source": [
    "def square(*a_list):\n",
    "    return [i**2 for i in a_list]"
   ]
  },
  {
   "cell_type": "code",
   "execution_count": 2,
   "metadata": {},
   "outputs": [
    {
     "data": {
      "text/plain": [
       "[144, 9, 16]"
      ]
     },
     "execution_count": 2,
     "metadata": {},
     "output_type": "execute_result"
    }
   ],
   "source": [
    "square(1,2,3)"
   ]
  }
 ],
 "metadata": {
  "kernelspec": {
   "display_name": "Python 3",
   "language": "python",
   "name": "python3"
  },
  "language_info": {
   "codemirror_mode": {
    "name": "ipython",
    "version": 3
   },
   "file_extension": ".py",
   "mimetype": "text/x-python",
   "name": "python",
   "nbconvert_exporter": "python",
   "pygments_lexer": "ipython3",
   "version": "3.7.4"
  }
 },
 "nbformat": 4,
 "nbformat_minor": 2
}
