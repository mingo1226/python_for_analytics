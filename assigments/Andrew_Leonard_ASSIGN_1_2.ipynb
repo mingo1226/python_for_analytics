{
 "cells": [
  {
   "cell_type": "markdown",
   "metadata": {},
   "source": [
    "## Assignment 1 - Part 2"
   ]
  },
  {
   "cell_type": "markdown",
   "metadata": {},
   "source": [
    "## Instructions\n",
    "* Rename this notebook with your NAME_LASTNAME_ASSIGN_1\n",
    "* Finish the test on this notebook\n",
    "* Download your notebook as a PDF\n",
    "* Turn in both the notebook and PDF (in my case I would get two files RAFAEL_VESCOVI_ASSIGN_1.pdf and RAFAEL_VESCOVI_ASSIGN_1.ipynb)\n",
    "* Show the output of your code working on the sample data, like below.  \n",
    "* If techniques are specified, use them.  Otherwise, feel free to solve the problem how you want.  \n",
    "* Try to keep your code clean, concise and avoid loops if necessary.  \n",
    "* You have to show your work (code).\n",
    "* You will be graded:\n",
    "    * The functionality of your code (Does it do what it was meant to)\n",
    "    * Showing the output on the sample data provided\n",
    "    * How concise it is (did you use a for loop when you could have used a comprehension for instance).  Simply put, try and write clean, concise and readable code (don't use 10 lines for what could have been done in 4).\n",
    "    * Even if the answer isn't perfect, make an honest attempt as partial credit will be given.\n",
    "* you should not have to explicitly use  a for loop except for question 12, meaning it is possible to complete the entire assignment without using the keyword \"for\".\n",
    "* the only third party functions/modules you are allowed to use are permutations and combinations from itertools.  yes, there is a built in median function in numpy, but the idea is to program yourself and solve the problems on your own using basic python techniques"
   ]
  },
  {
   "cell_type": "markdown",
   "metadata": {},
   "source": [
    "### Question 6\n",
    "* Make a UDF that takes two lists as params and returns a list of the intersecting items (items that appear in both lists)"
   ]
  },
  {
   "cell_type": "code",
   "execution_count": null,
   "metadata": {},
   "outputs": [],
   "source": [
    "# a = [1,2]\n",
    "# b = [2,3]\n",
    "# return_lst = [2]"
   ]
  },
  {
   "cell_type": "code",
   "execution_count": 5,
   "metadata": {},
   "outputs": [],
   "source": [
    "a = [1,2,3,4,5,6,7]\n",
    "b = [2,3,4,6,8,10,11,21]"
   ]
  },
  {
   "cell_type": "code",
   "execution_count": 6,
   "metadata": {},
   "outputs": [],
   "source": [
    "def match(a,b):\n",
    "    return([j for j in a if j in b])"
   ]
  },
  {
   "cell_type": "code",
   "execution_count": 7,
   "metadata": {},
   "outputs": [
    {
     "data": {
      "text/plain": [
       "[2, 3, 4, 6]"
      ]
     },
     "execution_count": 7,
     "metadata": {},
     "output_type": "execute_result"
    }
   ],
   "source": [
    "match(a,b)"
   ]
  },
  {
   "cell_type": "markdown",
   "metadata": {},
   "source": [
    "### Question 7\n",
    "* write a function that takes a list of numbers and filters for odds only\n",
    "* use the filter method and a lambda as the function"
   ]
  },
  {
   "cell_type": "code",
   "execution_count": 5,
   "metadata": {},
   "outputs": [],
   "source": [
    "# my_lst = [1,2]\n",
    "# new_lst = [1]"
   ]
  },
  {
   "cell_type": "code",
   "execution_count": 26,
   "metadata": {},
   "outputs": [],
   "source": [
    "a = [1,2,3,4,5,6,7,8,9,10,11,12,13,14,15]"
   ]
  },
  {
   "cell_type": "code",
   "execution_count": 27,
   "metadata": {},
   "outputs": [
    {
     "data": {
      "text/plain": [
       "[1, 3, 5, 7, 9, 11, 13, 15]"
      ]
     },
     "execution_count": 27,
     "metadata": {},
     "output_type": "execute_result"
    }
   ],
   "source": [
    "list(filter(lambda x: x%2 != 0,a))"
   ]
  },
  {
   "cell_type": "markdown",
   "metadata": {},
   "source": [
    "### Question 8\n",
    "* Write a function (lambda or not) that returns the absolute value of a number and adds 2\n",
    "* Use the function to map it to a list comprehension"
   ]
  },
  {
   "cell_type": "code",
   "execution_count": 12,
   "metadata": {},
   "outputs": [],
   "source": [
    "# my_lst = [1,-2,1]\n",
    "# using a comprehension return [3,4,3]"
   ]
  },
  {
   "cell_type": "code",
   "execution_count": 28,
   "metadata": {},
   "outputs": [],
   "source": [
    "a = [1,-2,1,8,-10,15,-12]"
   ]
  },
  {
   "cell_type": "code",
   "execution_count": 30,
   "metadata": {},
   "outputs": [
    {
     "data": {
      "text/plain": [
       "[3, 4, 3, 10, 12, 17, 14]"
      ]
     },
     "execution_count": 30,
     "metadata": {},
     "output_type": "execute_result"
    }
   ],
   "source": [
    "list(map(lambda x: abs(x)+2,a))"
   ]
  },
  {
   "cell_type": "markdown",
   "metadata": {},
   "source": [
    "### Question 9\n",
    "* write a function that takes 2 lists and finds the euclidean distance between then\n",
    "* note you may not use any third party modules.  use  comprehensions"
   ]
  },
  {
   "cell_type": "code",
   "execution_count": null,
   "metadata": {},
   "outputs": [],
   "source": [
    "# a = [1,2]\n",
    "# b = [3,1]\n",
    "# distance = ~2.23"
   ]
  },
  {
   "cell_type": "code",
   "execution_count": 2,
   "metadata": {},
   "outputs": [],
   "source": [
    "a = [1,2,3,4,1]\n",
    "b = [3,1,2,4,3]"
   ]
  },
  {
   "cell_type": "code",
   "execution_count": 37,
   "metadata": {},
   "outputs": [],
   "source": [
    "def euc(a,b):\n",
    "    return (sum([(j[0]-j[1])**2 for j in zip(a,b)])**.5)"
   ]
  },
  {
   "cell_type": "code",
   "execution_count": 38,
   "metadata": {},
   "outputs": [
    {
     "name": "stdout",
     "output_type": "stream",
     "text": [
      "3.1622776601683795\n"
     ]
    }
   ],
   "source": [
    "print(euc(a,b))"
   ]
  },
  {
   "cell_type": "markdown",
   "metadata": {},
   "source": [
    "### Question 10\n",
    "* write a function that takes a list, sorts it and finds the middle value.  \n",
    "* use error handling to check the list is odd in length\n",
    "* if it's even, return an error message\n",
    "* feel free to use a try/except or assert\n",
    "* show the output run on both lists"
   ]
  },
  {
   "cell_type": "code",
   "execution_count": null,
   "metadata": {},
   "outputs": [],
   "source": [
    "# a = [4,6,1]\n",
    "# sort = [1,4,6]\n",
    "# middle val = 4\n",
    "# if even number in size, return error"
   ]
  },
  {
   "cell_type": "code",
   "execution_count": 3,
   "metadata": {},
   "outputs": [],
   "source": [
    "a = [4,6,1,3,12,41,4,1,24,12,17]\n",
    "b = [4,6,1,3,12,41,4,1,24,12]"
   ]
  }
 ],
 "metadata": {
  "kernelspec": {
   "display_name": "Python 3",
   "language": "python",
   "name": "python3"
  },
  "language_info": {
   "codemirror_mode": {
    "name": "ipython",
    "version": 3
   },
   "file_extension": ".py",
   "mimetype": "text/x-python",
   "name": "python",
   "nbconvert_exporter": "python",
   "pygments_lexer": "ipython3",
   "version": "3.7.4"
  }
 },
 "nbformat": 4,
 "nbformat_minor": 2
}
